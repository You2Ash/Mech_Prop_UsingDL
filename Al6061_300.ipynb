{
  "nbformat": 4,
  "nbformat_minor": 0,
  "metadata": {
    "colab": {
      "name": "Al6061_300.ipynb",
      "provenance": [],
      "authorship_tag": "ABX9TyPJfy1050K/PeIIpw33/JhY",
      "include_colab_link": true
    },
    "kernelspec": {
      "name": "python3",
      "display_name": "Python 3"
    }
  },
  "cells": [
    {
      "cell_type": "markdown",
      "metadata": {
        "id": "view-in-github",
        "colab_type": "text"
      },
      "source": [
        "<a href=\"https://colab.research.google.com/github/dhruvjha206/Mech-Prop-using-ML/blob/main/Al6061_300.ipynb\" target=\"_parent\"><img src=\"https://colab.research.google.com/assets/colab-badge.svg\" alt=\"Open In Colab\"/></a>"
      ]
    },
    {
      "cell_type": "markdown",
      "metadata": {
        "id": "z5vV6UfRo5bR"
      },
      "source": [
        "### **For Aluminium 6061 Alloy at 300°C**"
      ]
    },
    {
      "cell_type": "code",
      "metadata": {
        "id": "qPzXV-2LoTkV"
      },
      "source": [
        "# Importing Important Libraries\n",
        "import numpy as np\n",
        "import matplotlib.pyplot as plt\n",
        "import pandas as pd\n",
        "import seaborn as sn\n",
        "\n",
        "from sklearn.linear_model import LinearRegression\n",
        "from sklearn import metrics\n",
        "import pandas.testing as tm\n",
        "from sklearn.preprocessing import PolynomialFeatures\n",
        "import sklearn.metrics as slm"
      ],
      "execution_count": 3,
      "outputs": []
    },
    {
      "cell_type": "markdown",
      "metadata": {
        "id": "lK2OfkbHpODS"
      },
      "source": [
        "### Data Preparation"
      ]
    },
    {
      "cell_type": "markdown",
      "metadata": {
        "id": "dbIz2rfFpT6E"
      },
      "source": [
        "About the Data Set\n",
        "\n",
        "The dataset is stress-strain ( Tensile and Microindentation ) of Aluminium 6061 Alloy under uniaxial and plain strain tension at 6 different temperatures."
      ]
    },
    {
      "cell_type": "code",
      "metadata": {
        "colab": {
          "base_uri": "https://localhost:8080/"
        },
        "id": "VHG7W-0CpF29",
        "outputId": "995ea32e-dd17-4ec4-f400-371f4666b7ad"
      },
      "source": [
        "from google.colab import drive\n",
        "drive.mount('/content/drive')"
      ],
      "execution_count": 1,
      "outputs": [
        {
          "output_type": "stream",
          "text": [
            "Mounted at /content/drive\n"
          ],
          "name": "stdout"
        }
      ]
    },
    {
      "cell_type": "code",
      "metadata": {
        "id": "FasyF83ypYHA"
      },
      "source": [
        "#reading csv\n",
        "path = \"/content/drive/MyDrive/Al6061_300.csv\"\n",
        "df = pd.read_csv(path, encoding= 'unicode_escape')"
      ],
      "execution_count": 4,
      "outputs": []
    },
    {
      "cell_type": "markdown",
      "metadata": {
        "id": "Ab1fMZ72plh9"
      },
      "source": [
        "Dataset"
      ]
    },
    {
      "cell_type": "code",
      "metadata": {
        "colab": {
          "base_uri": "https://localhost:8080/",
          "height": 402
        },
        "id": "dGj2AnFqpcqD",
        "outputId": "3e60f20f-a0dc-4efd-8f9b-cb14e8957872"
      },
      "source": [
        "df = df.drop([df.index[172]])\n",
        "df"
      ],
      "execution_count": 5,
      "outputs": [
        {
          "output_type": "execute_result",
          "data": {
            "text/html": [
              "<div>\n",
              "<style scoped>\n",
              "    .dataframe tbody tr th:only-of-type {\n",
              "        vertical-align: middle;\n",
              "    }\n",
              "\n",
              "    .dataframe tbody tr th {\n",
              "        vertical-align: top;\n",
              "    }\n",
              "\n",
              "    .dataframe thead th {\n",
              "        text-align: right;\n",
              "    }\n",
              "</style>\n",
              "<table border=\"1\" class=\"dataframe\">\n",
              "  <thead>\n",
              "    <tr style=\"text-align: right;\">\n",
              "      <th></th>\n",
              "      <th>Alloy_Name</th>\n",
              "      <th>Temp (°C)</th>\n",
              "      <th>Strain</th>\n",
              "      <th>Stress_MPa</th>\n",
              "      <th>Specimen_Type</th>\n",
              "    </tr>\n",
              "  </thead>\n",
              "  <tbody>\n",
              "    <tr>\n",
              "      <th>0</th>\n",
              "      <td>Al6061</td>\n",
              "      <td>300</td>\n",
              "      <td>0.000010</td>\n",
              "      <td>12.079138</td>\n",
              "      <td>Uniaxial tension</td>\n",
              "    </tr>\n",
              "    <tr>\n",
              "      <th>1</th>\n",
              "      <td>Al6061</td>\n",
              "      <td>300</td>\n",
              "      <td>0.000014</td>\n",
              "      <td>16.434872</td>\n",
              "      <td>Uniaxial tension</td>\n",
              "    </tr>\n",
              "    <tr>\n",
              "      <th>2</th>\n",
              "      <td>Al6061</td>\n",
              "      <td>300</td>\n",
              "      <td>0.000042</td>\n",
              "      <td>20.655593</td>\n",
              "      <td>Uniaxial tension</td>\n",
              "    </tr>\n",
              "    <tr>\n",
              "      <th>3</th>\n",
              "      <td>Al6061</td>\n",
              "      <td>300</td>\n",
              "      <td>0.000088</td>\n",
              "      <td>24.692543</td>\n",
              "      <td>Uniaxial tension</td>\n",
              "    </tr>\n",
              "    <tr>\n",
              "      <th>4</th>\n",
              "      <td>Al6061</td>\n",
              "      <td>300</td>\n",
              "      <td>0.000156</td>\n",
              "      <td>32.572543</td>\n",
              "      <td>Uniaxial tension</td>\n",
              "    </tr>\n",
              "    <tr>\n",
              "      <th>...</th>\n",
              "      <td>...</td>\n",
              "      <td>...</td>\n",
              "      <td>...</td>\n",
              "      <td>...</td>\n",
              "      <td>...</td>\n",
              "    </tr>\n",
              "    <tr>\n",
              "      <th>167</th>\n",
              "      <td>Al6061</td>\n",
              "      <td>300</td>\n",
              "      <td>0.202707</td>\n",
              "      <td>31.684522</td>\n",
              "      <td>Uniaxial tension</td>\n",
              "    </tr>\n",
              "    <tr>\n",
              "      <th>168</th>\n",
              "      <td>Al6061</td>\n",
              "      <td>300</td>\n",
              "      <td>0.204087</td>\n",
              "      <td>30.375105</td>\n",
              "      <td>Uniaxial tension</td>\n",
              "    </tr>\n",
              "    <tr>\n",
              "      <th>169</th>\n",
              "      <td>Al6061</td>\n",
              "      <td>300</td>\n",
              "      <td>0.204794</td>\n",
              "      <td>29.760183</td>\n",
              "      <td>Uniaxial tension</td>\n",
              "    </tr>\n",
              "    <tr>\n",
              "      <th>170</th>\n",
              "      <td>Al6061</td>\n",
              "      <td>300</td>\n",
              "      <td>0.205481</td>\n",
              "      <td>29.138776</td>\n",
              "      <td>Uniaxial tension</td>\n",
              "    </tr>\n",
              "    <tr>\n",
              "      <th>171</th>\n",
              "      <td>Al6061</td>\n",
              "      <td>300</td>\n",
              "      <td>0.206184</td>\n",
              "      <td>28.444410</td>\n",
              "      <td>Uniaxial tension</td>\n",
              "    </tr>\n",
              "  </tbody>\n",
              "</table>\n",
              "<p>172 rows × 5 columns</p>\n",
              "</div>"
            ],
            "text/plain": [
              "    Alloy_Name  Temp (°C)    Strain  Stress_MPa     Specimen_Type\n",
              "0       Al6061        300  0.000010   12.079138  Uniaxial tension\n",
              "1       Al6061        300  0.000014   16.434872  Uniaxial tension\n",
              "2       Al6061        300  0.000042   20.655593  Uniaxial tension\n",
              "3       Al6061        300  0.000088   24.692543  Uniaxial tension\n",
              "4       Al6061        300  0.000156   32.572543  Uniaxial tension\n",
              "..         ...        ...       ...         ...               ...\n",
              "167     Al6061        300  0.202707   31.684522  Uniaxial tension\n",
              "168     Al6061        300  0.204087   30.375105  Uniaxial tension\n",
              "169     Al6061        300  0.204794   29.760183  Uniaxial tension\n",
              "170     Al6061        300  0.205481   29.138776  Uniaxial tension\n",
              "171     Al6061        300  0.206184   28.444410  Uniaxial tension\n",
              "\n",
              "[172 rows x 5 columns]"
            ]
          },
          "metadata": {
            "tags": []
          },
          "execution_count": 5
        }
      ]
    },
    {
      "cell_type": "markdown",
      "metadata": {
        "id": "IJhVe-8gpq1_"
      },
      "source": [
        "Finding Missing Values in the Data Set"
      ]
    },
    {
      "cell_type": "code",
      "metadata": {
        "colab": {
          "base_uri": "https://localhost:8080/"
        },
        "id": "lNqjgHUspm7X",
        "outputId": "e6caa507-32a0-4706-9134-0b8182d6356e"
      },
      "source": [
        "df.isnull().sum()"
      ],
      "execution_count": 6,
      "outputs": [
        {
          "output_type": "execute_result",
          "data": {
            "text/plain": [
              "Alloy_Name       0\n",
              "Temp (°C)        0\n",
              "Strain           0\n",
              "Stress_MPa       0\n",
              "Specimen_Type    0\n",
              "dtype: int64"
            ]
          },
          "metadata": {
            "tags": []
          },
          "execution_count": 6
        }
      ]
    },
    {
      "cell_type": "markdown",
      "metadata": {
        "id": "vgjRHX2op3hj"
      },
      "source": [
        "Let's Do Some Exploratory Analysis"
      ]
    },
    {
      "cell_type": "code",
      "metadata": {
        "colab": {
          "base_uri": "https://localhost:8080/"
        },
        "id": "NWPI2AQSpvsY",
        "outputId": "1581d3d3-8431-4212-8c52-91dedcb6ba18"
      },
      "source": [
        "df.info()"
      ],
      "execution_count": 7,
      "outputs": [
        {
          "output_type": "stream",
          "text": [
            "<class 'pandas.core.frame.DataFrame'>\n",
            "Int64Index: 172 entries, 0 to 171\n",
            "Data columns (total 5 columns):\n",
            " #   Column         Non-Null Count  Dtype  \n",
            "---  ------         --------------  -----  \n",
            " 0   Alloy_Name     172 non-null    object \n",
            " 1   Temp (°C)      172 non-null    int64  \n",
            " 2   Strain         172 non-null    float64\n",
            " 3   Stress_MPa     172 non-null    float64\n",
            " 4   Specimen_Type  172 non-null    object \n",
            "dtypes: float64(2), int64(1), object(2)\n",
            "memory usage: 8.1+ KB\n"
          ],
          "name": "stdout"
        }
      ]
    },
    {
      "cell_type": "code",
      "metadata": {
        "colab": {
          "base_uri": "https://localhost:8080/",
          "height": 284
        },
        "id": "7urirPkvp5zp",
        "outputId": "79f25d9d-6211-44cf-d18b-4fc626e64f71"
      },
      "source": [
        "df.describe()"
      ],
      "execution_count": 8,
      "outputs": [
        {
          "output_type": "execute_result",
          "data": {
            "text/html": [
              "<div>\n",
              "<style scoped>\n",
              "    .dataframe tbody tr th:only-of-type {\n",
              "        vertical-align: middle;\n",
              "    }\n",
              "\n",
              "    .dataframe tbody tr th {\n",
              "        vertical-align: top;\n",
              "    }\n",
              "\n",
              "    .dataframe thead th {\n",
              "        text-align: right;\n",
              "    }\n",
              "</style>\n",
              "<table border=\"1\" class=\"dataframe\">\n",
              "  <thead>\n",
              "    <tr style=\"text-align: right;\">\n",
              "      <th></th>\n",
              "      <th>Temp (°C)</th>\n",
              "      <th>Strain</th>\n",
              "      <th>Stress_MPa</th>\n",
              "    </tr>\n",
              "  </thead>\n",
              "  <tbody>\n",
              "    <tr>\n",
              "      <th>count</th>\n",
              "      <td>172.0</td>\n",
              "      <td>172.000000</td>\n",
              "      <td>172.000000</td>\n",
              "    </tr>\n",
              "    <tr>\n",
              "      <th>mean</th>\n",
              "      <td>300.0</td>\n",
              "      <td>0.088707</td>\n",
              "      <td>61.620573</td>\n",
              "    </tr>\n",
              "    <tr>\n",
              "      <th>std</th>\n",
              "      <td>0.0</td>\n",
              "      <td>0.064242</td>\n",
              "      <td>15.729772</td>\n",
              "    </tr>\n",
              "    <tr>\n",
              "      <th>min</th>\n",
              "      <td>300.0</td>\n",
              "      <td>0.000010</td>\n",
              "      <td>12.079138</td>\n",
              "    </tr>\n",
              "    <tr>\n",
              "      <th>25%</th>\n",
              "      <td>300.0</td>\n",
              "      <td>0.031023</td>\n",
              "      <td>52.489371</td>\n",
              "    </tr>\n",
              "    <tr>\n",
              "      <th>50%</th>\n",
              "      <td>300.0</td>\n",
              "      <td>0.081618</td>\n",
              "      <td>63.503229</td>\n",
              "    </tr>\n",
              "    <tr>\n",
              "      <th>75%</th>\n",
              "      <td>300.0</td>\n",
              "      <td>0.142615</td>\n",
              "      <td>73.762968</td>\n",
              "    </tr>\n",
              "    <tr>\n",
              "      <th>max</th>\n",
              "      <td>300.0</td>\n",
              "      <td>0.206184</td>\n",
              "      <td>84.225216</td>\n",
              "    </tr>\n",
              "  </tbody>\n",
              "</table>\n",
              "</div>"
            ],
            "text/plain": [
              "       Temp (°C)      Strain  Stress_MPa\n",
              "count      172.0  172.000000  172.000000\n",
              "mean       300.0    0.088707   61.620573\n",
              "std          0.0    0.064242   15.729772\n",
              "min        300.0    0.000010   12.079138\n",
              "25%        300.0    0.031023   52.489371\n",
              "50%        300.0    0.081618   63.503229\n",
              "75%        300.0    0.142615   73.762968\n",
              "max        300.0    0.206184   84.225216"
            ]
          },
          "metadata": {
            "tags": []
          },
          "execution_count": 8
        }
      ]
    },
    {
      "cell_type": "markdown",
      "metadata": {
        "id": "oamMuJBGqKgY"
      },
      "source": [
        "Data Plotting (Stress-strain curve)"
      ]
    },
    {
      "cell_type": "code",
      "metadata": {
        "colab": {
          "base_uri": "https://localhost:8080/",
          "height": 295
        },
        "id": "El1efE3qqAyV",
        "outputId": "771040f5-1797-4f09-d3bb-9d1ed0b5fb57"
      },
      "source": [
        "plt.plot(df[\"Strain\"], df[\"Stress_MPa\"], color='r', label = 'Temp = 300')\n",
        "plt.title(\"Stress vs Strain\")\n",
        "plt.xlabel(\"Strain\")\n",
        "plt.ylabel(\"Stress\")\n",
        "plt.legend()\n",
        "plt.show()"
      ],
      "execution_count": 9,
      "outputs": [
        {
          "output_type": "display_data",
          "data": {
            "image/png": "[encoded data removed]",
            "text/plain": [
              "<Figure size 432x288 with 1 Axes>"
            ]
          },
          "metadata": {
            "tags": [],
            "needs_background": "light"
          }
        }
      ]
    },
    {
      "cell_type": "code",
      "metadata": {
        "id": "0lRFnDQWqMxE"
      },
      "source": [
        "row = df.shape[0]\n",
        "col = df.shape[1]"
      ],
      "execution_count": 10,
      "outputs": []
    },
    {
      "cell_type": "markdown",
      "metadata": {
        "id": "X6rrpyY-qjx6"
      },
      "source": [
        "For finding **PROPORTIONAL LIMIT**, we need to find **Linear Regression line** with **good accuracy**:"
      ]
    },
    {
      "cell_type": "code",
      "metadata": {
        "colab": {
          "base_uri": "https://localhost:8080/"
        },
        "id": "lxQspQceqPeU",
        "outputId": "b38eee20-cb55-4287-bf2b-81bc6a9e8c30"
      },
      "source": [
        "# Plotting multiple Regression lines and finding their accuracy \n",
        "import random\n",
        "prop_lim = random.randint(0,row)\n",
        "\n",
        "for i in range(2, row):\n",
        "  #Change to DataFrame \n",
        "  x = pd.DataFrame(df.loc[0:i , ['Strain']])\n",
        "  y = pd.DataFrame(df.loc[0:i , ['Stress_MPa']])\n",
        "\n",
        "  model = LinearRegression().fit(x, y)\n",
        "  y_new = model.predict(x)\n",
        "\n",
        "  acc = round(slm.r2_score(y, y_new), 2)\n",
        "  if acc >= 0.8 :\n",
        "    prop_lim = i\n",
        "prop_lim   "
      ],
      "execution_count": 11,
      "outputs": [
        {
          "output_type": "execute_result",
          "data": {
            "text/plain": [
              "13"
            ]
          },
          "metadata": {
            "tags": []
          },
          "execution_count": 11
        }
      ]
    },
    {
      "cell_type": "code",
      "metadata": {
        "id": "ynXUC8V6qoCN"
      },
      "source": [
        "x1 = df.loc[[prop_lim]].Strain\n",
        "y1 = df.iloc[[prop_lim]].Stress_MPa"
      ],
      "execution_count": 12,
      "outputs": []
    },
    {
      "cell_type": "markdown",
      "metadata": {
        "id": "qDw3cwSWqwZh"
      },
      "source": [
        "### Building Regression model"
      ]
    },
    {
      "cell_type": "code",
      "metadata": {
        "id": "d8gd3MOfqseF"
      },
      "source": [
        "x = pd.DataFrame(df.loc[0:prop_lim , ['Strain']])\n",
        "y = pd.DataFrame(df.loc[0:prop_lim , ['Stress_MPa']])\n",
        "\n",
        "model = LinearRegression().fit(x, y)\n",
        "y_new = model.predict(x)"
      ],
      "execution_count": 13,
      "outputs": []
    },
    {
      "cell_type": "markdown",
      "metadata": {
        "id": "d3_NGj_jq530"
      },
      "source": [
        "Plotting Regression line and Proportional limit"
      ]
    },
    {
      "cell_type": "code",
      "metadata": {
        "colab": {
          "base_uri": "https://localhost:8080/",
          "height": 295
        },
        "id": "1ndXp-9vq2S-",
        "outputId": "d2e06772-12ba-450a-ede5-afb13c3ea70e"
      },
      "source": [
        "plt.plot(df[\"Strain\"], df[\"Stress_MPa\"], color='r', label = 'Al6061')\n",
        "plt.plot(x, y_new, label='Linear Regression' )\n",
        "plt.scatter(x1,y1,color='b',marker='*',s=200, label = 'Proportional LIMIT')\n",
        "plt.title(\"Stress vs Strain\")\n",
        "plt.xlabel(\"Strain\")\n",
        "plt.ylabel(\"Stress\")\n",
        "plt.legend()\n",
        "plt.show()"
      ],
      "execution_count": 14,
      "outputs": [
        {
          "output_type": "display_data",
          "data": {
            "image/png": "[encoded data removed]",
            "text/plain": [
              "<Figure size 432x288 with 1 Axes>"
            ]
          },
          "metadata": {
            "tags": [],
            "needs_background": "light"
          }
        }
      ]
    },
    {
      "cell_type": "code",
      "metadata": {
        "id": "yvEvmgrFq8rm"
      },
      "source": [
        "# For Fracture Point\n",
        "x4 = df.loc[[row-2]].Strain\n",
        "y4 = df.loc[[row-2]].Stress_MPa"
      ],
      "execution_count": 15,
      "outputs": []
    },
    {
      "cell_type": "markdown",
      "metadata": {
        "id": "84U4bjRUrJmR"
      },
      "source": [
        "For the ultimate tensile strength:"
      ]
    },
    {
      "cell_type": "code",
      "metadata": {
        "id": "t3C5lpRvrG0x"
      },
      "source": [
        "max_Stress = df.iloc[df['Stress_MPa'].idxmax()]\n",
        "x3 = max_Stress['Strain']\n",
        "y3 = max_Stress['Stress_MPa']"
      ],
      "execution_count": 16,
      "outputs": []
    },
    {
      "cell_type": "markdown",
      "metadata": {
        "id": "75UbCuzyrPZn"
      },
      "source": [
        "Finding Yield Point using offset method"
      ]
    },
    {
      "cell_type": "code",
      "metadata": {
        "colab": {
          "base_uri": "https://localhost:8080/",
          "height": 402
        },
        "id": "ZW4Y6UD5rMqT",
        "outputId": "30a619d1-fbda-45bf-d0ed-55b7bc535d02"
      },
      "source": [
        "#Taking 0.2% as offset\n",
        "df[\"Offset\"] = df[\"Strain\"] + 0.002\n",
        "df"
      ],
      "execution_count": 17,
      "outputs": [
        {
          "output_type": "execute_result",
          "data": {
            "text/html": [
              "<div>\n",
              "<style scoped>\n",
              "    .dataframe tbody tr th:only-of-type {\n",
              "        vertical-align: middle;\n",
              "    }\n",
              "\n",
              "    .dataframe tbody tr th {\n",
              "        vertical-align: top;\n",
              "    }\n",
              "\n",
              "    .dataframe thead th {\n",
              "        text-align: right;\n",
              "    }\n",
              "</style>\n",
              "<table border=\"1\" class=\"dataframe\">\n",
              "  <thead>\n",
              "    <tr style=\"text-align: right;\">\n",
              "      <th></th>\n",
              "      <th>Alloy_Name</th>\n",
              "      <th>Temp (°C)</th>\n",
              "      <th>Strain</th>\n",
              "      <th>Stress_MPa</th>\n",
              "      <th>Specimen_Type</th>\n",
              "      <th>Offset</th>\n",
              "    </tr>\n",
              "  </thead>\n",
              "  <tbody>\n",
              "    <tr>\n",
              "      <th>0</th>\n",
              "      <td>Al6061</td>\n",
              "      <td>300</td>\n",
              "      <td>0.000010</td>\n",
              "      <td>12.079138</td>\n",
              "      <td>Uniaxial tension</td>\n",
              "      <td>0.002010</td>\n",
              "    </tr>\n",
              "    <tr>\n",
              "      <th>1</th>\n",
              "      <td>Al6061</td>\n",
              "      <td>300</td>\n",
              "      <td>0.000014</td>\n",
              "      <td>16.434872</td>\n",
              "      <td>Uniaxial tension</td>\n",
              "      <td>0.002014</td>\n",
              "    </tr>\n",
              "    <tr>\n",
              "      <th>2</th>\n",
              "      <td>Al6061</td>\n",
              "      <td>300</td>\n",
              "      <td>0.000042</td>\n",
              "      <td>20.655593</td>\n",
              "      <td>Uniaxial tension</td>\n",
              "      <td>0.002042</td>\n",
              "    </tr>\n",
              "    <tr>\n",
              "      <th>3</th>\n",
              "      <td>Al6061</td>\n",
              "      <td>300</td>\n",
              "      <td>0.000088</td>\n",
              "      <td>24.692543</td>\n",
              "      <td>Uniaxial tension</td>\n",
              "      <td>0.002088</td>\n",
              "    </tr>\n",
              "    <tr>\n",
              "      <th>4</th>\n",
              "      <td>Al6061</td>\n",
              "      <td>300</td>\n",
              "      <td>0.000156</td>\n",
              "      <td>32.572543</td>\n",
              "      <td>Uniaxial tension</td>\n",
              "      <td>0.002156</td>\n",
              "    </tr>\n",
              "    <tr>\n",
              "      <th>...</th>\n",
              "      <td>...</td>\n",
              "      <td>...</td>\n",
              "      <td>...</td>\n",
              "      <td>...</td>\n",
              "      <td>...</td>\n",
              "      <td>...</td>\n",
              "    </tr>\n",
              "    <tr>\n",
              "      <th>167</th>\n",
              "      <td>Al6061</td>\n",
              "      <td>300</td>\n",
              "      <td>0.202707</td>\n",
              "      <td>31.684522</td>\n",
              "      <td>Uniaxial tension</td>\n",
              "      <td>0.204707</td>\n",
              "    </tr>\n",
              "    <tr>\n",
              "      <th>168</th>\n",
              "      <td>Al6061</td>\n",
              "      <td>300</td>\n",
              "      <td>0.204087</td>\n",
              "      <td>30.375105</td>\n",
              "      <td>Uniaxial tension</td>\n",
              "      <td>0.206087</td>\n",
              "    </tr>\n",
              "    <tr>\n",
              "      <th>169</th>\n",
              "      <td>Al6061</td>\n",
              "      <td>300</td>\n",
              "      <td>0.204794</td>\n",
              "      <td>29.760183</td>\n",
              "      <td>Uniaxial tension</td>\n",
              "      <td>0.206794</td>\n",
              "    </tr>\n",
              "    <tr>\n",
              "      <th>170</th>\n",
              "      <td>Al6061</td>\n",
              "      <td>300</td>\n",
              "      <td>0.205481</td>\n",
              "      <td>29.138776</td>\n",
              "      <td>Uniaxial tension</td>\n",
              "      <td>0.207481</td>\n",
              "    </tr>\n",
              "    <tr>\n",
              "      <th>171</th>\n",
              "      <td>Al6061</td>\n",
              "      <td>300</td>\n",
              "      <td>0.206184</td>\n",
              "      <td>28.444410</td>\n",
              "      <td>Uniaxial tension</td>\n",
              "      <td>0.208184</td>\n",
              "    </tr>\n",
              "  </tbody>\n",
              "</table>\n",
              "<p>172 rows × 6 columns</p>\n",
              "</div>"
            ],
            "text/plain": [
              "    Alloy_Name  Temp (°C)    Strain  Stress_MPa     Specimen_Type    Offset\n",
              "0       Al6061        300  0.000010   12.079138  Uniaxial tension  0.002010\n",
              "1       Al6061        300  0.000014   16.434872  Uniaxial tension  0.002014\n",
              "2       Al6061        300  0.000042   20.655593  Uniaxial tension  0.002042\n",
              "3       Al6061        300  0.000088   24.692543  Uniaxial tension  0.002088\n",
              "4       Al6061        300  0.000156   32.572543  Uniaxial tension  0.002156\n",
              "..         ...        ...       ...         ...               ...       ...\n",
              "167     Al6061        300  0.202707   31.684522  Uniaxial tension  0.204707\n",
              "168     Al6061        300  0.204087   30.375105  Uniaxial tension  0.206087\n",
              "169     Al6061        300  0.204794   29.760183  Uniaxial tension  0.206794\n",
              "170     Al6061        300  0.205481   29.138776  Uniaxial tension  0.207481\n",
              "171     Al6061        300  0.206184   28.444410  Uniaxial tension  0.208184\n",
              "\n",
              "[172 rows x 6 columns]"
            ]
          },
          "metadata": {
            "tags": []
          },
          "execution_count": 17
        }
      ]
    },
    {
      "cell_type": "markdown",
      "metadata": {
        "id": "6_thAncgrUna"
      },
      "source": [
        "Building regression model for Yield Strength"
      ]
    },
    {
      "cell_type": "code",
      "metadata": {
        "id": "v-5MWTsNrR1z"
      },
      "source": [
        "x = pd.DataFrame(df.loc[0:prop_lim , ['Strain']])\n",
        "y = pd.DataFrame(df.loc[0:prop_lim , ['Stress_MPa']])\n",
        "\n",
        "model = LinearRegression().fit(x, y)\n",
        "y_new = model.predict(x)\n",
        "\n",
        "xx = pd.DataFrame(df.loc[0:prop_lim, ['Offset']])\n",
        "yy = pd.DataFrame(df.loc[0:prop_lim, ['Stress_MPa']])\n",
        "\n",
        "model = LinearRegression().fit(xx, yy)\n",
        "yy_new = model.predict(xx)"
      ],
      "execution_count": 19,
      "outputs": []
    },
    {
      "cell_type": "code",
      "metadata": {
        "colab": {
          "base_uri": "https://localhost:8080/",
          "height": 295
        },
        "id": "LyTBnmNgrW00",
        "outputId": "9aea32af-a607-4866-a0ad-417bdc54053a"
      },
      "source": [
        "plt.plot(df[\"Strain\"], df[\"Stress_MPa\"], color='r', label = 'Al6061')\n",
        "plt.plot(x, y_new, label='Regression line' )\n",
        "plt.plot(xx, yy_new, label='Offset regression line' )\n",
        "plt.title(\"Stress vs Strain\")\n",
        "plt.xlabel(\"Strain\")\n",
        "plt.ylabel(\"Stress\")\n",
        "plt.legend()\n",
        "plt.show()"
      ],
      "execution_count": 20,
      "outputs": [
        {
          "output_type": "display_data",
          "data": {
            "image/png": "[encoded data removed]",
            "text/plain": [
              "<Figure size 432x288 with 1 Axes>"
            ]
          },
          "metadata": {
            "tags": [],
            "needs_background": "light"
          }
        }
      ]
    },
    {
      "cell_type": "markdown",
      "metadata": {
        "id": "XIcyIC0WrdDI"
      },
      "source": [
        "Finding the yield point:"
      ]
    },
    {
      "cell_type": "code",
      "metadata": {
        "id": "6tH79_9JrY7_"
      },
      "source": [
        "for i in range (5, row):\n",
        "  if(df.iloc[prop_lim]['Offset'] <= df.iloc[i]['Strain']) :\n",
        "    x2 = df.loc[i].Strain\n",
        "    y2 = df.loc[i].Stress_MPa\n",
        "    break"
      ],
      "execution_count": 21,
      "outputs": []
    },
    {
      "cell_type": "markdown",
      "metadata": {
        "id": "wzZmzYVErjlF"
      },
      "source": [
        "### **Concluded PLOT**"
      ]
    },
    {
      "cell_type": "code",
      "metadata": {
        "colab": {
          "base_uri": "https://localhost:8080/",
          "height": 513
        },
        "id": "4nt6cdnlrfmD",
        "outputId": "a7979576-c2c3-4f6e-e926-3b9142d925ee"
      },
      "source": [
        "plt.subplots(figsize=[8,8])\n",
        "plt.plot(df[\"Strain\"], df[\"Stress_MPa\"], color='r', label = 'Temp =300')\n",
        "plt.scatter(x1,y1,color='b',marker='*',s=200, label = 'Proportional LIMIT')\n",
        "plt.scatter(x2,y2,color='orange',marker='*',s=200, label = 'Yield Point')\n",
        "plt.scatter(x3,y3,color='y',marker='*',s=200, label = 'Ultimate tensile Strength')\n",
        "plt.scatter(x4,y4,color='g',marker='*',s=200, label = 'Fracture Point')\n",
        "plt.plot(x, y_new, label='Proportionality Line')\n",
        "plt.plot(xx, yy_new, label='Offset line' )\n",
        "plt.title(\"Stress vs Strain\")\n",
        "plt.xlabel(\"Strain\")\n",
        "plt.ylabel(\"Stress\")\n",
        "plt.legend()\n",
        "plt.show()"
      ],
      "execution_count": 22,
      "outputs": [
        {
          "output_type": "display_data",
          "data": {
            "image/png": "[encoded data removed]",
            "text/plain": [
              "<Figure size 576x576 with 1 Axes>"
            ]
          },
          "metadata": {
            "tags": [],
            "needs_background": "light"
          }
        }
      ]
    },
    {
      "cell_type": "markdown",
      "metadata": {
        "id": "1mp9wNrUtcAG"
      },
      "source": [
        "**Results for Al6061 at 300°C:**"
      ]
    },
    {
      "cell_type": "code",
      "metadata": {
        "colab": {
          "base_uri": "https://localhost:8080/"
        },
        "id": "fkhi2ncurlsW",
        "outputId": "fa5f166a-db80-406a-80ba-e458ee168415"
      },
      "source": [
        "print('Proportional limit :' ,df.iloc[prop_lim]['Stress_MPa'] ,'MPa')\n",
        "print('Yield Point :' ,df.iloc[i]['Stress_MPa'] ,'MPa')\n",
        "print('Ultimate tensile strength :' , y3 ,'MPa')\n",
        "print('Fracture point :' ,df.iloc[row-1]['Stress_MPa'] ,'MPa')"
      ],
      "execution_count": 23,
      "outputs": [
        {
          "output_type": "stream",
          "text": [
            "Proportional limit : 81.24119282 MPa\n",
            "Yield Point : 84.07652768 MPa\n",
            "Ultimate tensile strength : 84.22521597 MPa\n",
            "Fracture point : 28.44441026 MPa\n"
          ],
          "name": "stdout"
        }
      ]
    },
    {
      "cell_type": "markdown",
      "metadata": {
        "id": "ysTKAZSutn-T"
      },
      "source": [
        "Model Accuracy:"
      ]
    },
    {
      "cell_type": "code",
      "metadata": {
        "colab": {
          "base_uri": "https://localhost:8080/"
        },
        "id": "fEN3auyQthf0",
        "outputId": "6981e98f-a0e6-4006-91bc-4342fbc521f6"
      },
      "source": [
        "# Regression score function\n",
        "print(slm.r2_score(y, y_new))"
      ],
      "execution_count": 24,
      "outputs": [
        {
          "output_type": "stream",
          "text": [
            "0.7997208860072752\n"
          ],
          "name": "stdout"
        }
      ]
    },
    {
      "cell_type": "code",
      "metadata": {
        "id": "khhWNMa3fhxE"
      },
      "source": [
        ""
      ],
      "execution_count": null,
      "outputs": []
    }
  ]
}