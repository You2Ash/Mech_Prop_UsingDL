{
  "nbformat": 4,
  "nbformat_minor": 0,
  "metadata": {
    "colab": {
      "name": "Al6061_200.ipynb",
      "provenance": [],
      "collapsed_sections": [],
      "authorship_tag": "ABX9TyM6/xKyH/Yephqp1/9OPJ1K",
      "include_colab_link": true
    },
    "kernelspec": {
      "name": "python3",
      "display_name": "Python 3"
    }
  },
  "cells": [
    {
      "cell_type": "markdown",
      "metadata": {
        "id": "view-in-github",
        "colab_type": "text"
      },
      "source": [
        "<a href=\"https://colab.research.google.com/github/dhruvjha206/Mech-Prop-using-ML/blob/main/Al6061_200.ipynb\" target=\"_parent\"><img src=\"https://colab.research.google.com/assets/colab-badge.svg\" alt=\"Open In Colab\"/></a>"
      ]
    },
    {
      "cell_type": "markdown",
      "metadata": {
        "id": "tILP5brFbmTu"
      },
      "source": [
        "###**For Aluminium 6061 Alloy at 200°C**"
      ]
    },
    {
      "cell_type": "code",
      "metadata": {
        "id": "2zef52PZJzaH"
      },
      "source": [
        "# Importing Important Libraries\n",
        "import numpy as np\n",
        "import matplotlib.pyplot as plt\n",
        "import pandas as pd\n",
        "import seaborn as sn\n",
        "\n",
        "from sklearn.linear_model import LinearRegression\n",
        "from sklearn import metrics\n",
        "import pandas.testing as tm\n",
        "from sklearn.preprocessing import PolynomialFeatures\n",
        "import sklearn.metrics as slm"
      ],
      "execution_count": 3,
      "outputs": []
    },
    {
      "cell_type": "markdown",
      "metadata": {
        "id": "i1qkS_6lzy1C"
      },
      "source": [
        "### Data Preparation"
      ]
    },
    {
      "cell_type": "markdown",
      "metadata": {
        "id": "2aUOQBHGz4xX"
      },
      "source": [
        "\n",
        "About the Data Set\n",
        "\n",
        "The dataset is stress-strain ( Tensile and Microindentation ) of Aluminium 6061 Alloy under uniaxial and plain strain tension at 6 different temperatures."
      ]
    },
    {
      "cell_type": "code",
      "metadata": {
        "colab": {
          "base_uri": "https://localhost:8080/"
        },
        "id": "ljDKdq1CKS62",
        "outputId": "8a0a8fbe-c568-4ee4-fc20-049764431e7e"
      },
      "source": [
        "from google.colab import drive\n",
        "drive.mount('/content/drive')"
      ],
      "execution_count": 1,
      "outputs": [
        {
          "output_type": "stream",
          "text": [
            "Mounted at /content/drive\n"
          ],
          "name": "stdout"
        }
      ]
    },
    {
      "cell_type": "code",
      "metadata": {
        "id": "veGyXQDyKj8x"
      },
      "source": [
        "#reading csv\n",
        "path = \"/content/drive/MyDrive/Al6061_200.csv\"\n",
        "df = pd.read_csv(path, encoding= 'unicode_escape')"
      ],
      "execution_count": 6,
      "outputs": []
    },
    {
      "cell_type": "markdown",
      "metadata": {
        "id": "_OKxocgx0Lan"
      },
      "source": [
        "Dataset"
      ]
    },
    {
      "cell_type": "code",
      "metadata": {
        "colab": {
          "base_uri": "https://localhost:8080/",
          "height": 402
        },
        "id": "RS6Rf3d9GWVQ",
        "outputId": "4d6b12c2-8996-4ce7-e1fd-9f32f116b6b6"
      },
      "source": [
        "df"
      ],
      "execution_count": 7,
      "outputs": [
        {
          "output_type": "execute_result",
          "data": {
            "text/html": [
              "<div>\n",
              "<style scoped>\n",
              "    .dataframe tbody tr th:only-of-type {\n",
              "        vertical-align: middle;\n",
              "    }\n",
              "\n",
              "    .dataframe tbody tr th {\n",
              "        vertical-align: top;\n",
              "    }\n",
              "\n",
              "    .dataframe thead th {\n",
              "        text-align: right;\n",
              "    }\n",
              "</style>\n",
              "<table border=\"1\" class=\"dataframe\">\n",
              "  <thead>\n",
              "    <tr style=\"text-align: right;\">\n",
              "      <th></th>\n",
              "      <th>Alloy_Name</th>\n",
              "      <th>Temp (°C)</th>\n",
              "      <th>Strain</th>\n",
              "      <th>Stress_MPa</th>\n",
              "      <th>Specimen_Type</th>\n",
              "    </tr>\n",
              "  </thead>\n",
              "  <tbody>\n",
              "    <tr>\n",
              "      <th>0</th>\n",
              "      <td>Al6061</td>\n",
              "      <td>200</td>\n",
              "      <td>-0.000012</td>\n",
              "      <td>-0.153762</td>\n",
              "      <td>Uniaxial tension</td>\n",
              "    </tr>\n",
              "    <tr>\n",
              "      <th>1</th>\n",
              "      <td>Al6061</td>\n",
              "      <td>200</td>\n",
              "      <td>-0.000006</td>\n",
              "      <td>-0.174207</td>\n",
              "      <td>Uniaxial tension</td>\n",
              "    </tr>\n",
              "    <tr>\n",
              "      <th>2</th>\n",
              "      <td>Al6061</td>\n",
              "      <td>200</td>\n",
              "      <td>0.000008</td>\n",
              "      <td>-0.110953</td>\n",
              "      <td>Uniaxial tension</td>\n",
              "    </tr>\n",
              "    <tr>\n",
              "      <th>3</th>\n",
              "      <td>Al6061</td>\n",
              "      <td>200</td>\n",
              "      <td>0.000011</td>\n",
              "      <td>0.168666</td>\n",
              "      <td>Uniaxial tension</td>\n",
              "    </tr>\n",
              "    <tr>\n",
              "      <th>4</th>\n",
              "      <td>Al6061</td>\n",
              "      <td>200</td>\n",
              "      <td>0.000021</td>\n",
              "      <td>0.682851</td>\n",
              "      <td>Uniaxial tension</td>\n",
              "    </tr>\n",
              "    <tr>\n",
              "      <th>...</th>\n",
              "      <td>...</td>\n",
              "      <td>...</td>\n",
              "      <td>...</td>\n",
              "      <td>...</td>\n",
              "      <td>...</td>\n",
              "    </tr>\n",
              "    <tr>\n",
              "      <th>747</th>\n",
              "      <td>Al6061</td>\n",
              "      <td>200</td>\n",
              "      <td>0.180390</td>\n",
              "      <td>51.134154</td>\n",
              "      <td>Uniaxial tension</td>\n",
              "    </tr>\n",
              "    <tr>\n",
              "      <th>748</th>\n",
              "      <td>Al6061</td>\n",
              "      <td>200</td>\n",
              "      <td>0.180678</td>\n",
              "      <td>48.366368</td>\n",
              "      <td>Uniaxial tension</td>\n",
              "    </tr>\n",
              "    <tr>\n",
              "      <th>749</th>\n",
              "      <td>Al6061</td>\n",
              "      <td>200</td>\n",
              "      <td>0.180921</td>\n",
              "      <td>45.442615</td>\n",
              "      <td>Uniaxial tension</td>\n",
              "    </tr>\n",
              "    <tr>\n",
              "      <th>750</th>\n",
              "      <td>Al6061</td>\n",
              "      <td>200</td>\n",
              "      <td>0.181134</td>\n",
              "      <td>43.232126</td>\n",
              "      <td>Uniaxial tension</td>\n",
              "    </tr>\n",
              "    <tr>\n",
              "      <th>751</th>\n",
              "      <td>Al6061</td>\n",
              "      <td>200</td>\n",
              "      <td>0.181135</td>\n",
              "      <td>0.000000</td>\n",
              "      <td>Uniaxial tension</td>\n",
              "    </tr>\n",
              "  </tbody>\n",
              "</table>\n",
              "<p>752 rows × 5 columns</p>\n",
              "</div>"
            ],
            "text/plain": [
              "    Alloy_Name  Temp (°C)    Strain  Stress_MPa     Specimen_Type\n",
              "0       Al6061        200 -0.000012   -0.153762  Uniaxial tension\n",
              "1       Al6061        200 -0.000006   -0.174207  Uniaxial tension\n",
              "2       Al6061        200  0.000008   -0.110953  Uniaxial tension\n",
              "3       Al6061        200  0.000011    0.168666  Uniaxial tension\n",
              "4       Al6061        200  0.000021    0.682851  Uniaxial tension\n",
              "..         ...        ...       ...         ...               ...\n",
              "747     Al6061        200  0.180390   51.134154  Uniaxial tension\n",
              "748     Al6061        200  0.180678   48.366368  Uniaxial tension\n",
              "749     Al6061        200  0.180921   45.442615  Uniaxial tension\n",
              "750     Al6061        200  0.181134   43.232126  Uniaxial tension\n",
              "751     Al6061        200  0.181135    0.000000  Uniaxial tension\n",
              "\n",
              "[752 rows x 5 columns]"
            ]
          },
          "metadata": {
            "tags": []
          },
          "execution_count": 7
        }
      ]
    },
    {
      "cell_type": "markdown",
      "metadata": {
        "id": "Mjn0Z6mr0U6M"
      },
      "source": [
        "Finding Missing Values in the Data Set"
      ]
    },
    {
      "cell_type": "code",
      "metadata": {
        "colab": {
          "base_uri": "https://localhost:8080/"
        },
        "id": "FiTsM0QS1Ad5",
        "outputId": "599db527-350d-4ae0-b71b-be1a055c9bb2"
      },
      "source": [
        "df.isnull().sum()"
      ],
      "execution_count": 8,
      "outputs": [
        {
          "output_type": "execute_result",
          "data": {
            "text/plain": [
              "Alloy_Name       0\n",
              "Temp (°C)        0\n",
              "Strain           0\n",
              "Stress_MPa       0\n",
              "Specimen_Type    0\n",
              "dtype: int64"
            ]
          },
          "metadata": {
            "tags": []
          },
          "execution_count": 8
        }
      ]
    },
    {
      "cell_type": "code",
      "metadata": {
        "colab": {
          "base_uri": "https://localhost:8080/",
          "height": 402
        },
        "id": "lfwCQFDB1Fzj",
        "outputId": "9d3cecc9-0360-4015-83a5-497e4229f848"
      },
      "source": [
        "df = df.drop([df.index[751]])\n",
        "df"
      ],
      "execution_count": 9,
      "outputs": [
        {
          "output_type": "execute_result",
          "data": {
            "text/html": [
              "<div>\n",
              "<style scoped>\n",
              "    .dataframe tbody tr th:only-of-type {\n",
              "        vertical-align: middle;\n",
              "    }\n",
              "\n",
              "    .dataframe tbody tr th {\n",
              "        vertical-align: top;\n",
              "    }\n",
              "\n",
              "    .dataframe thead th {\n",
              "        text-align: right;\n",
              "    }\n",
              "</style>\n",
              "<table border=\"1\" class=\"dataframe\">\n",
              "  <thead>\n",
              "    <tr style=\"text-align: right;\">\n",
              "      <th></th>\n",
              "      <th>Alloy_Name</th>\n",
              "      <th>Temp (°C)</th>\n",
              "      <th>Strain</th>\n",
              "      <th>Stress_MPa</th>\n",
              "      <th>Specimen_Type</th>\n",
              "    </tr>\n",
              "  </thead>\n",
              "  <tbody>\n",
              "    <tr>\n",
              "      <th>0</th>\n",
              "      <td>Al6061</td>\n",
              "      <td>200</td>\n",
              "      <td>-0.000012</td>\n",
              "      <td>-0.153762</td>\n",
              "      <td>Uniaxial tension</td>\n",
              "    </tr>\n",
              "    <tr>\n",
              "      <th>1</th>\n",
              "      <td>Al6061</td>\n",
              "      <td>200</td>\n",
              "      <td>-0.000006</td>\n",
              "      <td>-0.174207</td>\n",
              "      <td>Uniaxial tension</td>\n",
              "    </tr>\n",
              "    <tr>\n",
              "      <th>2</th>\n",
              "      <td>Al6061</td>\n",
              "      <td>200</td>\n",
              "      <td>0.000008</td>\n",
              "      <td>-0.110953</td>\n",
              "      <td>Uniaxial tension</td>\n",
              "    </tr>\n",
              "    <tr>\n",
              "      <th>3</th>\n",
              "      <td>Al6061</td>\n",
              "      <td>200</td>\n",
              "      <td>0.000011</td>\n",
              "      <td>0.168666</td>\n",
              "      <td>Uniaxial tension</td>\n",
              "    </tr>\n",
              "    <tr>\n",
              "      <th>4</th>\n",
              "      <td>Al6061</td>\n",
              "      <td>200</td>\n",
              "      <td>0.000021</td>\n",
              "      <td>0.682851</td>\n",
              "      <td>Uniaxial tension</td>\n",
              "    </tr>\n",
              "    <tr>\n",
              "      <th>...</th>\n",
              "      <td>...</td>\n",
              "      <td>...</td>\n",
              "      <td>...</td>\n",
              "      <td>...</td>\n",
              "      <td>...</td>\n",
              "    </tr>\n",
              "    <tr>\n",
              "      <th>746</th>\n",
              "      <td>Al6061</td>\n",
              "      <td>200</td>\n",
              "      <td>0.179825</td>\n",
              "      <td>56.035679</td>\n",
              "      <td>Uniaxial tension</td>\n",
              "    </tr>\n",
              "    <tr>\n",
              "      <th>747</th>\n",
              "      <td>Al6061</td>\n",
              "      <td>200</td>\n",
              "      <td>0.180390</td>\n",
              "      <td>51.134154</td>\n",
              "      <td>Uniaxial tension</td>\n",
              "    </tr>\n",
              "    <tr>\n",
              "      <th>748</th>\n",
              "      <td>Al6061</td>\n",
              "      <td>200</td>\n",
              "      <td>0.180678</td>\n",
              "      <td>48.366368</td>\n",
              "      <td>Uniaxial tension</td>\n",
              "    </tr>\n",
              "    <tr>\n",
              "      <th>749</th>\n",
              "      <td>Al6061</td>\n",
              "      <td>200</td>\n",
              "      <td>0.180921</td>\n",
              "      <td>45.442615</td>\n",
              "      <td>Uniaxial tension</td>\n",
              "    </tr>\n",
              "    <tr>\n",
              "      <th>750</th>\n",
              "      <td>Al6061</td>\n",
              "      <td>200</td>\n",
              "      <td>0.181134</td>\n",
              "      <td>43.232126</td>\n",
              "      <td>Uniaxial tension</td>\n",
              "    </tr>\n",
              "  </tbody>\n",
              "</table>\n",
              "<p>751 rows × 5 columns</p>\n",
              "</div>"
            ],
            "text/plain": [
              "    Alloy_Name  Temp (°C)    Strain  Stress_MPa     Specimen_Type\n",
              "0       Al6061        200 -0.000012   -0.153762  Uniaxial tension\n",
              "1       Al6061        200 -0.000006   -0.174207  Uniaxial tension\n",
              "2       Al6061        200  0.000008   -0.110953  Uniaxial tension\n",
              "3       Al6061        200  0.000011    0.168666  Uniaxial tension\n",
              "4       Al6061        200  0.000021    0.682851  Uniaxial tension\n",
              "..         ...        ...       ...         ...               ...\n",
              "746     Al6061        200  0.179825   56.035679  Uniaxial tension\n",
              "747     Al6061        200  0.180390   51.134154  Uniaxial tension\n",
              "748     Al6061        200  0.180678   48.366368  Uniaxial tension\n",
              "749     Al6061        200  0.180921   45.442615  Uniaxial tension\n",
              "750     Al6061        200  0.181134   43.232126  Uniaxial tension\n",
              "\n",
              "[751 rows x 5 columns]"
            ]
          },
          "metadata": {
            "tags": []
          },
          "execution_count": 9
        }
      ]
    },
    {
      "cell_type": "markdown",
      "metadata": {
        "id": "LuROoPAS1T5F"
      },
      "source": [
        "Let's Do Some Exploratory Analysis"
      ]
    },
    {
      "cell_type": "code",
      "metadata": {
        "colab": {
          "base_uri": "https://localhost:8080/"
        },
        "id": "12tsxJPt1W1s",
        "outputId": "b4bd953d-97fe-4f20-b135-2b5b89d03e02"
      },
      "source": [
        "df.info()"
      ],
      "execution_count": 10,
      "outputs": [
        {
          "output_type": "stream",
          "text": [
            "<class 'pandas.core.frame.DataFrame'>\n",
            "Int64Index: 751 entries, 0 to 750\n",
            "Data columns (total 5 columns):\n",
            " #   Column         Non-Null Count  Dtype  \n",
            "---  ------         --------------  -----  \n",
            " 0   Alloy_Name     751 non-null    object \n",
            " 1   Temp (°C)      751 non-null    int64  \n",
            " 2   Strain         751 non-null    float64\n",
            " 3   Stress_MPa     751 non-null    float64\n",
            " 4   Specimen_Type  751 non-null    object \n",
            "dtypes: float64(2), int64(1), object(2)\n",
            "memory usage: 35.2+ KB\n"
          ],
          "name": "stdout"
        }
      ]
    },
    {
      "cell_type": "code",
      "metadata": {
        "colab": {
          "base_uri": "https://localhost:8080/",
          "height": 284
        },
        "id": "82AJevlh1apO",
        "outputId": "c41eacf8-6ff3-494a-9d56-29f55e074f0a"
      },
      "source": [
        "df.describe()"
      ],
      "execution_count": 11,
      "outputs": [
        {
          "output_type": "execute_result",
          "data": {
            "text/html": [
              "<div>\n",
              "<style scoped>\n",
              "    .dataframe tbody tr th:only-of-type {\n",
              "        vertical-align: middle;\n",
              "    }\n",
              "\n",
              "    .dataframe tbody tr th {\n",
              "        vertical-align: top;\n",
              "    }\n",
              "\n",
              "    .dataframe thead th {\n",
              "        text-align: right;\n",
              "    }\n",
              "</style>\n",
              "<table border=\"1\" class=\"dataframe\">\n",
              "  <thead>\n",
              "    <tr style=\"text-align: right;\">\n",
              "      <th></th>\n",
              "      <th>Temp (°C)</th>\n",
              "      <th>Strain</th>\n",
              "      <th>Stress_MPa</th>\n",
              "    </tr>\n",
              "  </thead>\n",
              "  <tbody>\n",
              "    <tr>\n",
              "      <th>count</th>\n",
              "      <td>751.0</td>\n",
              "      <td>751.000000</td>\n",
              "      <td>751.000000</td>\n",
              "    </tr>\n",
              "    <tr>\n",
              "      <th>mean</th>\n",
              "      <td>200.0</td>\n",
              "      <td>0.071898</td>\n",
              "      <td>161.788922</td>\n",
              "    </tr>\n",
              "    <tr>\n",
              "      <th>std</th>\n",
              "      <td>0.0</td>\n",
              "      <td>0.054415</td>\n",
              "      <td>38.559556</td>\n",
              "    </tr>\n",
              "    <tr>\n",
              "      <th>min</th>\n",
              "      <td>200.0</td>\n",
              "      <td>-0.000012</td>\n",
              "      <td>-0.174207</td>\n",
              "    </tr>\n",
              "    <tr>\n",
              "      <th>25%</th>\n",
              "      <td>200.0</td>\n",
              "      <td>0.022240</td>\n",
              "      <td>157.697430</td>\n",
              "    </tr>\n",
              "    <tr>\n",
              "      <th>50%</th>\n",
              "      <td>200.0</td>\n",
              "      <td>0.064280</td>\n",
              "      <td>175.335935</td>\n",
              "    </tr>\n",
              "    <tr>\n",
              "      <th>75%</th>\n",
              "      <td>200.0</td>\n",
              "      <td>0.117878</td>\n",
              "      <td>185.350930</td>\n",
              "    </tr>\n",
              "    <tr>\n",
              "      <th>max</th>\n",
              "      <td>200.0</td>\n",
              "      <td>0.181134</td>\n",
              "      <td>189.531829</td>\n",
              "    </tr>\n",
              "  </tbody>\n",
              "</table>\n",
              "</div>"
            ],
            "text/plain": [
              "       Temp (°C)      Strain  Stress_MPa\n",
              "count      751.0  751.000000  751.000000\n",
              "mean       200.0    0.071898  161.788922\n",
              "std          0.0    0.054415   38.559556\n",
              "min        200.0   -0.000012   -0.174207\n",
              "25%        200.0    0.022240  157.697430\n",
              "50%        200.0    0.064280  175.335935\n",
              "75%        200.0    0.117878  185.350930\n",
              "max        200.0    0.181134  189.531829"
            ]
          },
          "metadata": {
            "tags": []
          },
          "execution_count": 11
        }
      ]
    },
    {
      "cell_type": "code",
      "metadata": {
        "colab": {
          "base_uri": "https://localhost:8080/",
          "height": 567
        },
        "id": "yGRGeb2o1gvS",
        "outputId": "8f97c0ff-93ef-4fff-8ecf-603398cca452"
      },
      "source": [
        "sn.pairplot(data=df)"
      ],
      "execution_count": 12,
      "outputs": [
        {
          "output_type": "execute_result",
          "data": {
            "text/plain": [
              "<seaborn.axisgrid.PairGrid at 0x7fc1ee766890>"
            ]
          },
          "metadata": {
            "tags": []
          },
          "execution_count": 12
        },
        {
          "output_type": "display_data",
          "data": {
            "image/png": "[encoded data removed]",
            "text/plain": [
              "<Figure size 540x540 with 12 Axes>"
            ]
          },
          "metadata": {
            "tags": [],
            "needs_background": "light"
          }
        }
      ]
    },
    {
      "cell_type": "markdown",
      "metadata": {
        "id": "4eTADZ5ARYJJ"
      },
      "source": [
        "Data Plotting (Stress-strain curve)"
      ]
    },
    {
      "cell_type": "code",
      "metadata": {
        "colab": {
          "base_uri": "https://localhost:8080/",
          "height": 295
        },
        "id": "eunod77lLHzI",
        "outputId": "610580eb-e906-4468-bb87-920d3e718b35"
      },
      "source": [
        "plt.plot(df[\"Strain\"], df[\"Stress_MPa\"], color='r', label = 'Temp = 200')\n",
        "plt.title(\"Stress vs Strain\")\n",
        "plt.xlabel(\"Strain\")\n",
        "plt.ylabel(\"Stress\")\n",
        "plt.legend()\n",
        "plt.show()"
      ],
      "execution_count": 13,
      "outputs": [
        {
          "output_type": "display_data",
          "data": {
            "image/png": "[encoded data removed]",
            "text/plain": [
              "<Figure size 432x288 with 1 Axes>"
            ]
          },
          "metadata": {
            "tags": [],
            "needs_background": "light"
          }
        }
      ]
    },
    {
      "cell_type": "code",
      "metadata": {
        "id": "C4DJRfV_M1ln"
      },
      "source": [
        "row = df.shape[0]\n",
        "col = df.shape[1]"
      ],
      "execution_count": 14,
      "outputs": []
    },
    {
      "cell_type": "markdown",
      "metadata": {
        "id": "UXsl9X-hLYuT"
      },
      "source": [
        "For finding **PROPORTIONAL LIMIT**, we need to find **Linear Regression line** with **minimum 95% accuracy**:"
      ]
    },
    {
      "cell_type": "code",
      "metadata": {
        "id": "IzLviuTRMc_-",
        "colab": {
          "base_uri": "https://localhost:8080/"
        },
        "outputId": "54f18ec7-9c9d-479f-9b52-cb96ea85e71b"
      },
      "source": [
        "import random\n",
        "prop_lim = random.randint(0,row)\n",
        "\n",
        "for i in range(2, row):\n",
        "  #Change to DataFrame \n",
        "  x = pd.DataFrame(df.loc[0:i , ['Strain']])\n",
        "  y = pd.DataFrame(df.loc[0:i , ['Stress_MPa']])\n",
        "\n",
        "  model = LinearRegression().fit(x, y)\n",
        "  y_new = model.predict(x)\n",
        "\n",
        "  acc = round(slm.r2_score(y, y_new), 2)\n",
        "  if acc >= 0.95 :\n",
        "    prop_lim = i\n",
        "prop_lim    "
      ],
      "execution_count": 15,
      "outputs": [
        {
          "output_type": "execute_result",
          "data": {
            "text/plain": [
              "96"
            ]
          },
          "metadata": {
            "tags": []
          },
          "execution_count": 15
        }
      ]
    },
    {
      "cell_type": "code",
      "metadata": {
        "id": "S-DW2TN6LRsz"
      },
      "source": [
        "x1 = df.loc[[prop_lim]].Strain\n",
        "y1 = df.iloc[[prop_lim]].Stress_MPa"
      ],
      "execution_count": null,
      "outputs": []
    },
    {
      "cell_type": "markdown",
      "metadata": {
        "id": "sLr7y_Ukk1Nf"
      },
      "source": [
        "### Building regression model"
      ]
    },
    {
      "cell_type": "code",
      "metadata": {
        "id": "B9kuKIy6Z0Km"
      },
      "source": [
        "x = pd.DataFrame(df.loc[0:prop_lim , ['Strain']])\n",
        "y = pd.DataFrame(df.loc[0:prop_lim , ['Stress_MPa']])\n",
        "\n",
        "model = LinearRegression().fit(x, y)\n",
        "y_new = model.predict(x)"
      ],
      "execution_count": null,
      "outputs": []
    },
    {
      "cell_type": "markdown",
      "metadata": {
        "id": "KrecPOsLcZPV"
      },
      "source": [
        "Plotting Regression line and Proportional limit"
      ]
    },
    {
      "cell_type": "code",
      "metadata": {
        "colab": {
          "base_uri": "https://localhost:8080/",
          "height": 295
        },
        "id": "so6GtiXCZdfw",
        "outputId": "773385d7-2f31-4f6e-8329-758dd3bb124d"
      },
      "source": [
        "plt.scatter(df[\"Strain\"], df[\"Stress_MPa\"], color='r', label = 'Al6061')\n",
        "plt.plot(x, y_new, label='Linear Regression' )\n",
        "plt.scatter(x1,y1,color='b',marker='*',s=200, label = 'Proportional LIMIT')\n",
        "plt.title(\"Stress vs Strain\")\n",
        "plt.xlabel(\"Strain\")\n",
        "plt.ylabel(\"Stress\")\n",
        "plt.legend()\n",
        "plt.show()"
      ],
      "execution_count": null,
      "outputs": [
        {
          "output_type": "display_data",
          "data": {
            "image/png": "[encoded data removed]",
            "text/plain": [
              "<Figure size 432x288 with 1 Axes>"
            ]
          },
          "metadata": {
            "tags": [],
            "needs_background": "light"
          }
        }
      ]
    },
    {
      "cell_type": "code",
      "metadata": {
        "id": "hrucXYovahJA"
      },
      "source": [
        "# For Fracture Point\n",
        "x4 = df.loc[[row-2]].Strain\n",
        "y4 = df.loc[[row-2]].Stress_MPa"
      ],
      "execution_count": null,
      "outputs": []
    },
    {
      "cell_type": "markdown",
      "metadata": {
        "id": "N5rThSLhIWSe"
      },
      "source": [
        "For the **ultimate tensile strength**:"
      ]
    },
    {
      "cell_type": "code",
      "metadata": {
        "id": "QWGqGk0mIfTA"
      },
      "source": [
        "max_Stress = df.iloc[df['Stress_MPa'].idxmax()]\n",
        "x3 = max_Stress['Strain']\n",
        "y3 = max_Stress['Stress_MPa']"
      ],
      "execution_count": null,
      "outputs": []
    },
    {
      "cell_type": "markdown",
      "metadata": {
        "id": "GzRG5-JeoXvI"
      },
      "source": [
        "Finding **Yield Point** using offset method:"
      ]
    },
    {
      "cell_type": "code",
      "metadata": {
        "colab": {
          "base_uri": "https://localhost:8080/",
          "height": 402
        },
        "id": "ghPR5_F5oXUD",
        "outputId": "f5e3a3d7-9907-4fd6-b1ef-352bd6255e25"
      },
      "source": [
        "#Taking 0.2% as offset\n",
        "df[\"Offset\"] = df[\"Strain\"] + 0.002\n",
        "df"
      ],
      "execution_count": null,
      "outputs": [
        {
          "output_type": "execute_result",
          "data": {
            "text/html": [
              "<div>\n",
              "<style scoped>\n",
              "    .dataframe tbody tr th:only-of-type {\n",
              "        vertical-align: middle;\n",
              "    }\n",
              "\n",
              "    .dataframe tbody tr th {\n",
              "        vertical-align: top;\n",
              "    }\n",
              "\n",
              "    .dataframe thead th {\n",
              "        text-align: right;\n",
              "    }\n",
              "</style>\n",
              "<table border=\"1\" class=\"dataframe\">\n",
              "  <thead>\n",
              "    <tr style=\"text-align: right;\">\n",
              "      <th></th>\n",
              "      <th>Alloy_Name</th>\n",
              "      <th>Temp (°C)</th>\n",
              "      <th>Strain</th>\n",
              "      <th>Stress_MPa</th>\n",
              "      <th>Specimen_Type</th>\n",
              "      <th>Offset</th>\n",
              "    </tr>\n",
              "  </thead>\n",
              "  <tbody>\n",
              "    <tr>\n",
              "      <th>0</th>\n",
              "      <td>Al6061</td>\n",
              "      <td>200</td>\n",
              "      <td>-0.000012</td>\n",
              "      <td>-0.153762</td>\n",
              "      <td>Uniaxial tension</td>\n",
              "      <td>0.001988</td>\n",
              "    </tr>\n",
              "    <tr>\n",
              "      <th>1</th>\n",
              "      <td>Al6061</td>\n",
              "      <td>200</td>\n",
              "      <td>-0.000006</td>\n",
              "      <td>-0.174207</td>\n",
              "      <td>Uniaxial tension</td>\n",
              "      <td>0.001994</td>\n",
              "    </tr>\n",
              "    <tr>\n",
              "      <th>2</th>\n",
              "      <td>Al6061</td>\n",
              "      <td>200</td>\n",
              "      <td>0.000008</td>\n",
              "      <td>-0.110953</td>\n",
              "      <td>Uniaxial tension</td>\n",
              "      <td>0.002008</td>\n",
              "    </tr>\n",
              "    <tr>\n",
              "      <th>3</th>\n",
              "      <td>Al6061</td>\n",
              "      <td>200</td>\n",
              "      <td>0.000011</td>\n",
              "      <td>0.168666</td>\n",
              "      <td>Uniaxial tension</td>\n",
              "      <td>0.002011</td>\n",
              "    </tr>\n",
              "    <tr>\n",
              "      <th>4</th>\n",
              "      <td>Al6061</td>\n",
              "      <td>200</td>\n",
              "      <td>0.000021</td>\n",
              "      <td>0.682851</td>\n",
              "      <td>Uniaxial tension</td>\n",
              "      <td>0.002021</td>\n",
              "    </tr>\n",
              "    <tr>\n",
              "      <th>...</th>\n",
              "      <td>...</td>\n",
              "      <td>...</td>\n",
              "      <td>...</td>\n",
              "      <td>...</td>\n",
              "      <td>...</td>\n",
              "      <td>...</td>\n",
              "    </tr>\n",
              "    <tr>\n",
              "      <th>746</th>\n",
              "      <td>Al6061</td>\n",
              "      <td>200</td>\n",
              "      <td>0.179825</td>\n",
              "      <td>56.035679</td>\n",
              "      <td>Uniaxial tension</td>\n",
              "      <td>0.181825</td>\n",
              "    </tr>\n",
              "    <tr>\n",
              "      <th>747</th>\n",
              "      <td>Al6061</td>\n",
              "      <td>200</td>\n",
              "      <td>0.180390</td>\n",
              "      <td>51.134154</td>\n",
              "      <td>Uniaxial tension</td>\n",
              "      <td>0.182390</td>\n",
              "    </tr>\n",
              "    <tr>\n",
              "      <th>748</th>\n",
              "      <td>Al6061</td>\n",
              "      <td>200</td>\n",
              "      <td>0.180678</td>\n",
              "      <td>48.366368</td>\n",
              "      <td>Uniaxial tension</td>\n",
              "      <td>0.182678</td>\n",
              "    </tr>\n",
              "    <tr>\n",
              "      <th>749</th>\n",
              "      <td>Al6061</td>\n",
              "      <td>200</td>\n",
              "      <td>0.180921</td>\n",
              "      <td>45.442615</td>\n",
              "      <td>Uniaxial tension</td>\n",
              "      <td>0.182921</td>\n",
              "    </tr>\n",
              "    <tr>\n",
              "      <th>750</th>\n",
              "      <td>Al6061</td>\n",
              "      <td>200</td>\n",
              "      <td>0.181134</td>\n",
              "      <td>43.232126</td>\n",
              "      <td>Uniaxial tension</td>\n",
              "      <td>0.183134</td>\n",
              "    </tr>\n",
              "  </tbody>\n",
              "</table>\n",
              "<p>751 rows × 6 columns</p>\n",
              "</div>"
            ],
            "text/plain": [
              "    Alloy_Name  Temp (°C)    Strain  Stress_MPa     Specimen_Type    Offset\n",
              "0       Al6061        200 -0.000012   -0.153762  Uniaxial tension  0.001988\n",
              "1       Al6061        200 -0.000006   -0.174207  Uniaxial tension  0.001994\n",
              "2       Al6061        200  0.000008   -0.110953  Uniaxial tension  0.002008\n",
              "3       Al6061        200  0.000011    0.168666  Uniaxial tension  0.002011\n",
              "4       Al6061        200  0.000021    0.682851  Uniaxial tension  0.002021\n",
              "..         ...        ...       ...         ...               ...       ...\n",
              "746     Al6061        200  0.179825   56.035679  Uniaxial tension  0.181825\n",
              "747     Al6061        200  0.180390   51.134154  Uniaxial tension  0.182390\n",
              "748     Al6061        200  0.180678   48.366368  Uniaxial tension  0.182678\n",
              "749     Al6061        200  0.180921   45.442615  Uniaxial tension  0.182921\n",
              "750     Al6061        200  0.181134   43.232126  Uniaxial tension  0.183134\n",
              "\n",
              "[751 rows x 6 columns]"
            ]
          },
          "metadata": {
            "tags": []
          },
          "execution_count": 19
        }
      ]
    },
    {
      "cell_type": "markdown",
      "metadata": {
        "id": "UVtrJ3TTlZoT"
      },
      "source": [
        "Building regression model for Yield Strength"
      ]
    },
    {
      "cell_type": "code",
      "metadata": {
        "id": "gOkmDBQsXle5"
      },
      "source": [
        "xx = pd.DataFrame(df.loc[0:prop_lim, ['Offset']])\n",
        "yy = pd.DataFrame(df.loc[0:prop_lim, ['Stress_MPa']])\n",
        "\n",
        "model = LinearRegression().fit(xx, yy)\n",
        "yy_new = model.predict(xx)\n",
        "\n",
        "x = pd.DataFrame(df.loc[0:prop_lim , ['Strain']])\n",
        "y = pd.DataFrame(df.loc[0:prop_lim , ['Stress_MPa']])\n",
        "\n",
        "model = LinearRegression().fit(x, y)\n",
        "y_new = model.predict(x)"
      ],
      "execution_count": null,
      "outputs": []
    },
    {
      "cell_type": "code",
      "metadata": {
        "colab": {
          "base_uri": "https://localhost:8080/",
          "height": 295
        },
        "id": "1GfDEIOKpm1G",
        "outputId": "7e8c9038-3346-4a79-c142-dab8c62ff587"
      },
      "source": [
        "plt.plot(df[\"Strain\"], df[\"Stress_MPa\"], color='r', label = 'Al6061')\n",
        "plt.plot(x, y_new, label='Regression line' )\n",
        "plt.plot(xx, yy_new, label='Offset regression line' )\n",
        "plt.title(\"Stress vs Strain\")\n",
        "plt.xlabel(\"Strain\")\n",
        "plt.ylabel(\"Stress\")\n",
        "plt.legend()\n",
        "plt.show()"
      ],
      "execution_count": null,
      "outputs": [
        {
          "output_type": "display_data",
          "data": {
            "image/png": "[encoded data removed]",
            "text/plain": [
              "<Figure size 432x288 with 1 Axes>"
            ]
          },
          "metadata": {
            "tags": [],
            "needs_background": "light"
          }
        }
      ]
    },
    {
      "cell_type": "markdown",
      "metadata": {
        "id": "VgabkQQSrAUO"
      },
      "source": [
        "Finding the yield point:"
      ]
    },
    {
      "cell_type": "code",
      "metadata": {
        "id": "4aRyIFIdTAO8"
      },
      "source": [
        "for i in range (50, row):\n",
        "  if(df.iloc[prop_lim]['Offset'] <= df.iloc[i]['Strain']) :\n",
        "    x2 = df.loc[i].Strain\n",
        "    y2 = df.loc[i].Stress_MPa\n",
        "    break"
      ],
      "execution_count": null,
      "outputs": []
    },
    {
      "cell_type": "markdown",
      "metadata": {
        "id": "kjel5Khbrx_s"
      },
      "source": [
        "### **Concluded PLOT**"
      ]
    },
    {
      "cell_type": "code",
      "metadata": {
        "id": "K0JzQTrnrrqm",
        "colab": {
          "base_uri": "https://localhost:8080/",
          "height": 513
        },
        "outputId": "f804d9ff-86a1-41ec-d3c0-554b692600f4"
      },
      "source": [
        "plt.subplots(figsize=[8,8])\n",
        "plt.plot(df[\"Strain\"], df[\"Stress_MPa\"], color='r', label = 'Temp = 200')\n",
        "plt.scatter(x1,y1,color='b',marker='*',s=200, label = 'Proportional LIMIT')\n",
        "plt.scatter(x2,y2,color='orange',marker='*',s=200, label = 'Yield Point')\n",
        "plt.scatter(x3,y3,color='y',marker='*',s=200, label = 'Ultimate tensile Strength')\n",
        "plt.scatter(x4,y4,color='g',marker='*',s=200, label = 'Fracture Point')\n",
        "plt.plot(x, y_new, label='Proportionality Line')\n",
        "plt.plot(xx, yy_new, label='Offset line' )\n",
        "plt.title(\"Stress vs Strain\")\n",
        "plt.xlabel(\"Strain\")\n",
        "plt.ylabel(\"Stress\")\n",
        "plt.legend()\n",
        "plt.show()"
      ],
      "execution_count": null,
      "outputs": [
        {
          "output_type": "display_data",
          "data": {
            "image/png": "[encoded data removed]",
            "text/plain": [
              "<Figure size 576x576 with 1 Axes>"
            ]
          },
          "metadata": {
            "tags": [],
            "needs_background": "light"
          }
        }
      ]
    },
    {
      "cell_type": "markdown",
      "metadata": {
        "id": "dXngZLRRsDI2"
      },
      "source": [
        "**Results for Al6061 at 200°C**:"
      ]
    },
    {
      "cell_type": "code",
      "metadata": {
        "colab": {
          "base_uri": "https://localhost:8080/"
        },
        "id": "TaPqFC_LdS4u",
        "outputId": "8769ce79-03ae-4a1d-e3ed-c9653ff1bcf5"
      },
      "source": [
        "print('Proportional limit :' ,df.iloc[prop_lim]['Stress_MPa'] ,'MPa')\n",
        "print('Yield Strength :' ,df.iloc[i]['Stress_MPa'] ,'MPa')\n",
        "print('Ultimate tensile strength :' , y3 ,'MPa')\n",
        "print('Fracture point :' ,df.iloc[row-1]['Stress_MPa'] ,'MPa')"
      ],
      "execution_count": null,
      "outputs": [
        {
          "output_type": "stream",
          "text": [
            "Proportional limit : 187.024834 MPa\n",
            "Yield Strength : 188.9811608 MPa\n",
            "Ultimate tensile strength : 189.5318294 MPa\n",
            "Fracture point : 43.23212646 MPa\n"
          ],
          "name": "stdout"
        }
      ]
    },
    {
      "cell_type": "markdown",
      "metadata": {
        "id": "RG9sQFvJl15Q"
      },
      "source": [
        "Model Accuracy:"
      ]
    },
    {
      "cell_type": "code",
      "metadata": {
        "colab": {
          "base_uri": "https://localhost:8080/"
        },
        "id": "2oMgc0Eel0g9",
        "outputId": "c3a50cab-067c-458c-840e-6ef0952d9f07"
      },
      "source": [
        "# Regression score function\n",
        "print(slm.r2_score(y, y_new))"
      ],
      "execution_count": null,
      "outputs": [
        {
          "output_type": "stream",
          "text": [
            "0.9457812909948979\n"
          ],
          "name": "stdout"
        }
      ]
    }
  ]
}