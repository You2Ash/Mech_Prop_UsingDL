{
  "nbformat": 4,
  "nbformat_minor": 0,
  "metadata": {
    "colab": {
      "name": "Al6061_100.ipynb",
      "provenance": [],
      "collapsed_sections": [],
      "include_colab_link": true
    },
    "kernelspec": {
      "name": "python3",
      "display_name": "Python 3"
    }
  },
  "cells": [
    {
      "cell_type": "markdown",
      "metadata": {
        "id": "view-in-github",
        "colab_type": "text"
      },
      "source": [
        "<a href=\"https://colab.research.google.com/github/dhruvjha206/Mech-Prop-using-ML/blob/main/Al6061_100.ipynb\" target=\"_parent\"><img src=\"https://colab.research.google.com/assets/colab-badge.svg\" alt=\"Open In Colab\"/></a>"
      ]
    },
    {
      "cell_type": "code",
      "metadata": {
        "id": "AULGZ99WPlQt"
      },
      "source": [
        "#importing libraries\n",
        "import numpy as np\n",
        "import matplotlib.pyplot as plt\n",
        "import pandas as pd\n",
        "import seaborn as sn"
      ],
      "execution_count": null,
      "outputs": []
    },
    {
      "cell_type": "markdown",
      "metadata": {
        "id": "mNLSYHHSQHEx"
      },
      "source": [
        "**Data Preparation**"
      ]
    },
    {
      "cell_type": "markdown",
      "metadata": {
        "id": "dlhjON53QXRc"
      },
      "source": [
        "About the Data Set:\n",
        "\n",
        "The dataset is stress-strain of Aluminium 6061 alloy under uniaxial steady-state tension at different temperature."
      ]
    },
    {
      "cell_type": "code",
      "metadata": {
        "colab": {
          "resources": {
            "http://localhost:8080/nbextensions/google.colab/files.js": {
              "data": "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",
              "ok": true,
              "headers": [
                [
                  "content-type",
                  "application/javascript"
                ]
              ],
              "status": 200,
              "status_text": ""
            }
          },
          "base_uri": "https://localhost:8080/",
          "height": 73
        },
        "id": "NjloGpkbSV2r",
        "outputId": "1dda7965-3c57-49e7-9b7d-81257408dcb8"
      },
      "source": [
        "#uploading local files\n",
        "from google.colab import files\n",
        "uploaded = files.upload()"
      ],
      "execution_count": null,
      "outputs": [
        {
          "output_type": "display_data",
          "data": {
            "text/html": [
              "\n",
              "     <input type=\"file\" id=\"files-593ea6a5-5dd9-4db6-bb2c-f1c0b4608493\" name=\"files[]\" multiple disabled\n",
              "        style=\"border:none\" />\n",
              "     <output id=\"result-593ea6a5-5dd9-4db6-bb2c-f1c0b4608493\">\n",
              "      Upload widget is only available when the cell has been executed in the\n",
              "      current browser session. Please rerun this cell to enable.\n",
              "      </output>\n",
              "      <script src=\"/nbextensions/google.colab/files.js\"></script> "
            ],
            "text/plain": [
              "<IPython.core.display.HTML object>"
            ]
          },
          "metadata": {
            "tags": []
          }
        },
        {
          "output_type": "stream",
          "text": [
            "Saving Al6061_100.csv to Al6061_100 (1).csv\n"
          ],
          "name": "stdout"
        }
      ]
    },
    {
      "cell_type": "code",
      "metadata": {
        "colab": {
          "base_uri": "https://localhost:8080/"
        },
        "id": "TCBsjDlbSj1O",
        "outputId": "88a7b984-8641-4d6d-b3d9-a321e9bec6dc"
      },
      "source": [
        "#reading csv\n",
        "import io\n",
        "data = pd.read_csv(io.BytesIO(uploaded['Al6061_100.csv']), encoding= 'unicode_escape')\n",
        "print(data.shape)"
      ],
      "execution_count": null,
      "outputs": [
        {
          "output_type": "stream",
          "text": [
            "(625, 5)\n"
          ],
          "name": "stdout"
        }
      ]
    },
    {
      "cell_type": "markdown",
      "metadata": {
        "id": "xZXnMT6lSyE5"
      },
      "source": [
        "Dataset:"
      ]
    },
    {
      "cell_type": "code",
      "metadata": {
        "colab": {
          "base_uri": "https://localhost:8080/",
          "height": 402
        },
        "id": "u_wSPlRQS0L5",
        "outputId": "f9328d12-a67e-4db5-dda0-63aa2b1a2f11"
      },
      "source": [
        "data"
      ],
      "execution_count": null,
      "outputs": [
        {
          "output_type": "execute_result",
          "data": {
            "text/html": [
              "<div>\n",
              "<style scoped>\n",
              "    .dataframe tbody tr th:only-of-type {\n",
              "        vertical-align: middle;\n",
              "    }\n",
              "\n",
              "    .dataframe tbody tr th {\n",
              "        vertical-align: top;\n",
              "    }\n",
              "\n",
              "    .dataframe thead th {\n",
              "        text-align: right;\n",
              "    }\n",
              "</style>\n",
              "<table border=\"1\" class=\"dataframe\">\n",
              "  <thead>\n",
              "    <tr style=\"text-align: right;\">\n",
              "      <th></th>\n",
              "      <th>Strain</th>\n",
              "      <th>Stress_MPa</th>\n",
              "    </tr>\n",
              "  </thead>\n",
              "  <tbody>\n",
              "    <tr>\n",
              "      <th>0</th>\n",
              "      <td>-0.000018</td>\n",
              "      <td>0.460338</td>\n",
              "    </tr>\n",
              "    <tr>\n",
              "      <th>1</th>\n",
              "      <td>-0.000025</td>\n",
              "      <td>0.893298</td>\n",
              "    </tr>\n",
              "    <tr>\n",
              "      <th>2</th>\n",
              "      <td>-0.000046</td>\n",
              "      <td>1.407751</td>\n",
              "    </tr>\n",
              "    <tr>\n",
              "      <th>3</th>\n",
              "      <td>-0.000061</td>\n",
              "      <td>1.965058</td>\n",
              "    </tr>\n",
              "    <tr>\n",
              "      <th>4</th>\n",
              "      <td>-0.000095</td>\n",
              "      <td>2.850505</td>\n",
              "    </tr>\n",
              "    <tr>\n",
              "      <th>...</th>\n",
              "      <td>...</td>\n",
              "      <td>...</td>\n",
              "    </tr>\n",
              "    <tr>\n",
              "      <th>619</th>\n",
              "      <td>0.114303</td>\n",
              "      <td>219.380867</td>\n",
              "    </tr>\n",
              "    <tr>\n",
              "      <th>620</th>\n",
              "      <td>0.114715</td>\n",
              "      <td>217.522198</td>\n",
              "    </tr>\n",
              "    <tr>\n",
              "      <th>621</th>\n",
              "      <td>0.114914</td>\n",
              "      <td>216.639858</td>\n",
              "    </tr>\n",
              "    <tr>\n",
              "      <th>622</th>\n",
              "      <td>0.115126</td>\n",
              "      <td>215.746640</td>\n",
              "    </tr>\n",
              "    <tr>\n",
              "      <th>623</th>\n",
              "      <td>0.115346</td>\n",
              "      <td>214.753025</td>\n",
              "    </tr>\n",
              "  </tbody>\n",
              "</table>\n",
              "<p>624 rows × 2 columns</p>\n",
              "</div>"
            ],
            "text/plain": [
              "       Strain  Stress_MPa\n",
              "0   -0.000018    0.460338\n",
              "1   -0.000025    0.893298\n",
              "2   -0.000046    1.407751\n",
              "3   -0.000061    1.965058\n",
              "4   -0.000095    2.850505\n",
              "..        ...         ...\n",
              "619  0.114303  219.380867\n",
              "620  0.114715  217.522198\n",
              "621  0.114914  216.639858\n",
              "622  0.115126  215.746640\n",
              "623  0.115346  214.753025\n",
              "\n",
              "[624 rows x 2 columns]"
            ]
          },
          "metadata": {
            "tags": []
          },
          "execution_count": 33
        }
      ]
    },
    {
      "cell_type": "markdown",
      "metadata": {
        "id": "dt-3UyM3eHnX"
      },
      "source": [
        "Prelimnary data analysis:"
      ]
    },
    {
      "cell_type": "code",
      "metadata": {
        "colab": {
          "base_uri": "https://localhost:8080/"
        },
        "id": "s3BVr3yMTsoY",
        "outputId": "fd6bb225-e97f-4bb9-f6a8-f286a0509480"
      },
      "source": [
        "data.isnull().sum()"
      ],
      "execution_count": null,
      "outputs": [
        {
          "output_type": "execute_result",
          "data": {
            "text/plain": [
              "Alloy_Name       0\n",
              "Temp (°C)        0\n",
              "Strain           0\n",
              "Stress_MPa       0\n",
              "Specimen_Type    0\n",
              "dtype: int64"
            ]
          },
          "metadata": {
            "tags": []
          },
          "execution_count": 24
        }
      ]
    },
    {
      "cell_type": "code",
      "metadata": {
        "colab": {
          "base_uri": "https://localhost:8080/",
          "height": 402
        },
        "id": "dLAegKSoTywB",
        "outputId": "0e1455f8-6f91-4176-b55c-aeeab9c670da"
      },
      "source": [
        "data = data[data['Stress_MPa'] != 0]\n",
        "data"
      ],
      "execution_count": null,
      "outputs": [
        {
          "output_type": "execute_result",
          "data": {
            "text/html": [
              "<div>\n",
              "<style scoped>\n",
              "    .dataframe tbody tr th:only-of-type {\n",
              "        vertical-align: middle;\n",
              "    }\n",
              "\n",
              "    .dataframe tbody tr th {\n",
              "        vertical-align: top;\n",
              "    }\n",
              "\n",
              "    .dataframe thead th {\n",
              "        text-align: right;\n",
              "    }\n",
              "</style>\n",
              "<table border=\"1\" class=\"dataframe\">\n",
              "  <thead>\n",
              "    <tr style=\"text-align: right;\">\n",
              "      <th></th>\n",
              "      <th>Alloy_Name</th>\n",
              "      <th>Temp (°C)</th>\n",
              "      <th>Strain</th>\n",
              "      <th>Stress_MPa</th>\n",
              "      <th>Specimen_Type</th>\n",
              "    </tr>\n",
              "  </thead>\n",
              "  <tbody>\n",
              "    <tr>\n",
              "      <th>0</th>\n",
              "      <td>Al6061</td>\n",
              "      <td>100</td>\n",
              "      <td>-0.000018</td>\n",
              "      <td>0.460338</td>\n",
              "      <td>Uniaxial tension</td>\n",
              "    </tr>\n",
              "    <tr>\n",
              "      <th>1</th>\n",
              "      <td>Al6061</td>\n",
              "      <td>100</td>\n",
              "      <td>-0.000025</td>\n",
              "      <td>0.893298</td>\n",
              "      <td>Uniaxial tension</td>\n",
              "    </tr>\n",
              "    <tr>\n",
              "      <th>2</th>\n",
              "      <td>Al6061</td>\n",
              "      <td>100</td>\n",
              "      <td>-0.000046</td>\n",
              "      <td>1.407751</td>\n",
              "      <td>Uniaxial tension</td>\n",
              "    </tr>\n",
              "    <tr>\n",
              "      <th>3</th>\n",
              "      <td>Al6061</td>\n",
              "      <td>100</td>\n",
              "      <td>-0.000061</td>\n",
              "      <td>1.965058</td>\n",
              "      <td>Uniaxial tension</td>\n",
              "    </tr>\n",
              "    <tr>\n",
              "      <th>4</th>\n",
              "      <td>Al6061</td>\n",
              "      <td>100</td>\n",
              "      <td>-0.000095</td>\n",
              "      <td>2.850505</td>\n",
              "      <td>Uniaxial tension</td>\n",
              "    </tr>\n",
              "    <tr>\n",
              "      <th>...</th>\n",
              "      <td>...</td>\n",
              "      <td>...</td>\n",
              "      <td>...</td>\n",
              "      <td>...</td>\n",
              "      <td>...</td>\n",
              "    </tr>\n",
              "    <tr>\n",
              "      <th>619</th>\n",
              "      <td>Al6061</td>\n",
              "      <td>100</td>\n",
              "      <td>0.114303</td>\n",
              "      <td>219.380867</td>\n",
              "      <td>Uniaxial tension</td>\n",
              "    </tr>\n",
              "    <tr>\n",
              "      <th>620</th>\n",
              "      <td>Al6061</td>\n",
              "      <td>100</td>\n",
              "      <td>0.114715</td>\n",
              "      <td>217.522198</td>\n",
              "      <td>Uniaxial tension</td>\n",
              "    </tr>\n",
              "    <tr>\n",
              "      <th>621</th>\n",
              "      <td>Al6061</td>\n",
              "      <td>100</td>\n",
              "      <td>0.114914</td>\n",
              "      <td>216.639858</td>\n",
              "      <td>Uniaxial tension</td>\n",
              "    </tr>\n",
              "    <tr>\n",
              "      <th>622</th>\n",
              "      <td>Al6061</td>\n",
              "      <td>100</td>\n",
              "      <td>0.115126</td>\n",
              "      <td>215.746640</td>\n",
              "      <td>Uniaxial tension</td>\n",
              "    </tr>\n",
              "    <tr>\n",
              "      <th>623</th>\n",
              "      <td>Al6061</td>\n",
              "      <td>100</td>\n",
              "      <td>0.115346</td>\n",
              "      <td>214.753025</td>\n",
              "      <td>Uniaxial tension</td>\n",
              "    </tr>\n",
              "  </tbody>\n",
              "</table>\n",
              "<p>624 rows × 5 columns</p>\n",
              "</div>"
            ],
            "text/plain": [
              "    Alloy_Name  Temp (°C)    Strain  Stress_MPa     Specimen_Type\n",
              "0       Al6061        100 -0.000018    0.460338  Uniaxial tension\n",
              "1       Al6061        100 -0.000025    0.893298  Uniaxial tension\n",
              "2       Al6061        100 -0.000046    1.407751  Uniaxial tension\n",
              "3       Al6061        100 -0.000061    1.965058  Uniaxial tension\n",
              "4       Al6061        100 -0.000095    2.850505  Uniaxial tension\n",
              "..         ...        ...       ...         ...               ...\n",
              "619     Al6061        100  0.114303  219.380867  Uniaxial tension\n",
              "620     Al6061        100  0.114715  217.522198  Uniaxial tension\n",
              "621     Al6061        100  0.114914  216.639858  Uniaxial tension\n",
              "622     Al6061        100  0.115126  215.746640  Uniaxial tension\n",
              "623     Al6061        100  0.115346  214.753025  Uniaxial tension\n",
              "\n",
              "[624 rows x 5 columns]"
            ]
          },
          "metadata": {
            "tags": []
          },
          "execution_count": 25
        }
      ]
    },
    {
      "cell_type": "markdown",
      "metadata": {
        "id": "pwToJv9IVDjl"
      },
      "source": [
        "Exploratory data analysis:"
      ]
    },
    {
      "cell_type": "code",
      "metadata": {
        "colab": {
          "base_uri": "https://localhost:8080/"
        },
        "id": "PxBgZAbUVIZ3",
        "outputId": "5677dfd9-0a91-4a3b-e3b0-ecdf9dfd6292"
      },
      "source": [
        "data.info()"
      ],
      "execution_count": null,
      "outputs": [
        {
          "output_type": "stream",
          "text": [
            "<class 'pandas.core.frame.DataFrame'>\n",
            "Int64Index: 624 entries, 0 to 623\n",
            "Data columns (total 5 columns):\n",
            " #   Column         Non-Null Count  Dtype  \n",
            "---  ------         --------------  -----  \n",
            " 0   Alloy_Name     624 non-null    object \n",
            " 1   Temp (°C)      624 non-null    int64  \n",
            " 2   Strain         624 non-null    float64\n",
            " 3   Stress_MPa     624 non-null    float64\n",
            " 4   Specimen_Type  624 non-null    object \n",
            "dtypes: float64(2), int64(1), object(2)\n",
            "memory usage: 29.2+ KB\n"
          ],
          "name": "stdout"
        }
      ]
    },
    {
      "cell_type": "code",
      "metadata": {
        "colab": {
          "base_uri": "https://localhost:8080/",
          "height": 284
        },
        "id": "VDOVan5HVPuB",
        "outputId": "c295db5e-5ef8-4323-eba1-f07902c73009"
      },
      "source": [
        "data.describe()"
      ],
      "execution_count": null,
      "outputs": [
        {
          "output_type": "execute_result",
          "data": {
            "text/html": [
              "<div>\n",
              "<style scoped>\n",
              "    .dataframe tbody tr th:only-of-type {\n",
              "        vertical-align: middle;\n",
              "    }\n",
              "\n",
              "    .dataframe tbody tr th {\n",
              "        vertical-align: top;\n",
              "    }\n",
              "\n",
              "    .dataframe thead th {\n",
              "        text-align: right;\n",
              "    }\n",
              "</style>\n",
              "<table border=\"1\" class=\"dataframe\">\n",
              "  <thead>\n",
              "    <tr style=\"text-align: right;\">\n",
              "      <th></th>\n",
              "      <th>Temp (°C)</th>\n",
              "      <th>Strain</th>\n",
              "      <th>Stress_MPa</th>\n",
              "    </tr>\n",
              "  </thead>\n",
              "  <tbody>\n",
              "    <tr>\n",
              "      <th>count</th>\n",
              "      <td>624.0</td>\n",
              "      <td>624.000000</td>\n",
              "      <td>624.000000</td>\n",
              "    </tr>\n",
              "    <tr>\n",
              "      <th>mean</th>\n",
              "      <td>100.0</td>\n",
              "      <td>0.044285</td>\n",
              "      <td>228.744961</td>\n",
              "    </tr>\n",
              "    <tr>\n",
              "      <th>std</th>\n",
              "      <td>0.0</td>\n",
              "      <td>0.035598</td>\n",
              "      <td>65.444217</td>\n",
              "    </tr>\n",
              "    <tr>\n",
              "      <th>min</th>\n",
              "      <td>100.0</td>\n",
              "      <td>-0.000423</td>\n",
              "      <td>0.460338</td>\n",
              "    </tr>\n",
              "    <tr>\n",
              "      <th>25%</th>\n",
              "      <td>100.0</td>\n",
              "      <td>0.009400</td>\n",
              "      <td>239.654276</td>\n",
              "    </tr>\n",
              "    <tr>\n",
              "      <th>50%</th>\n",
              "      <td>100.0</td>\n",
              "      <td>0.039520</td>\n",
              "      <td>257.137393</td>\n",
              "    </tr>\n",
              "    <tr>\n",
              "      <th>75%</th>\n",
              "      <td>100.0</td>\n",
              "      <td>0.073683</td>\n",
              "      <td>262.946678</td>\n",
              "    </tr>\n",
              "    <tr>\n",
              "      <th>max</th>\n",
              "      <td>100.0</td>\n",
              "      <td>0.115346</td>\n",
              "      <td>264.757090</td>\n",
              "    </tr>\n",
              "  </tbody>\n",
              "</table>\n",
              "</div>"
            ],
            "text/plain": [
              "       Temp (°C)      Strain  Stress_MPa\n",
              "count      624.0  624.000000  624.000000\n",
              "mean       100.0    0.044285  228.744961\n",
              "std          0.0    0.035598   65.444217\n",
              "min        100.0   -0.000423    0.460338\n",
              "25%        100.0    0.009400  239.654276\n",
              "50%        100.0    0.039520  257.137393\n",
              "75%        100.0    0.073683  262.946678\n",
              "max        100.0    0.115346  264.757090"
            ]
          },
          "metadata": {
            "tags": []
          },
          "execution_count": 27
        }
      ]
    },
    {
      "cell_type": "code",
      "metadata": {
        "colab": {
          "base_uri": "https://localhost:8080/",
          "height": 567
        },
        "id": "Wrv7uDN4VZ-U",
        "outputId": "ecd66c0d-15c9-48cf-8e60-5b00b1bd7b3e"
      },
      "source": [
        "sn.pairplot(data=data)"
      ],
      "execution_count": null,
      "outputs": [
        {
          "output_type": "execute_result",
          "data": {
            "text/plain": [
              "<seaborn.axisgrid.PairGrid at 0x7f502e71c790>"
            ]
          },
          "metadata": {
            "tags": []
          },
          "execution_count": 28
        },
        {
          "output_type": "display_data",
          "data": {
            "image/png": "[encoded data removed]",
            "text/plain": [
              "<Figure size 540x540 with 12 Axes>"
            ]
          },
          "metadata": {
            "tags": [],
            "needs_background": "light"
          }
        }
      ]
    },
    {
      "cell_type": "markdown",
      "metadata": {
        "id": "i8Mb_wvdWBEe"
      },
      "source": [
        "Data Visualisation (stress-strain curve):"
      ]
    },
    {
      "cell_type": "code",
      "metadata": {
        "id": "alVDXknOWQC9"
      },
      "source": [
        "X = data['Strain'].values\n",
        "Y = data['Stress_MPa'].values"
      ],
      "execution_count": null,
      "outputs": []
    },
    {
      "cell_type": "code",
      "metadata": {
        "colab": {
          "base_uri": "https://localhost:8080/",
          "height": 386
        },
        "id": "px53TJ1yZ_nq",
        "outputId": "9159f8db-f6bf-473a-f731-92a2c1881779"
      },
      "source": [
        "sn.displot(data, x = \"Stress_MPa\")"
      ],
      "execution_count": null,
      "outputs": [
        {
          "output_type": "execute_result",
          "data": {
            "text/plain": [
              "<seaborn.axisgrid.FacetGrid at 0x7f502e326890>"
            ]
          },
          "metadata": {
            "tags": []
          },
          "execution_count": 30
        },
        {
          "output_type": "display_data",
          "data": {
            "image/png": "[encoded data removed]",
            "text/plain": [
              "<Figure size 360x360 with 1 Axes>"
            ]
          },
          "metadata": {
            "tags": [],
            "needs_background": "light"
          }
        }
      ]
    },
    {
      "cell_type": "code",
      "metadata": {
        "colab": {
          "base_uri": "https://localhost:8080/",
          "height": 308
        },
        "id": "z-aUPhe5V9NU",
        "outputId": "31b298f4-2df2-4a16-a294-4bbb30be3046"
      },
      "source": [
        "plt.plot(X, Y, color='b', label='Temp = 100')\n",
        "plt.xlabel('Strain')\n",
        "plt.ylabel('Stress (in MPa)')\n",
        "plt.suptitle(\"\"\"Stress-Strain Curve at 100\\N{DEGREE SIGN}C\\n\"\"\", fontweight =\"bold\")\n",
        "plt.legend()\n",
        "plt.show()"
      ],
      "execution_count": null,
      "outputs": [
        {
          "output_type": "display_data",
          "data": {
            "image/png": "[encoded data removed]",
            "text/plain": [
              "<Figure size 432x288 with 1 Axes>"
            ]
          },
          "metadata": {
            "tags": [],
            "needs_background": "light"
          }
        }
      ]
    },
    {
      "cell_type": "markdown",
      "metadata": {
        "id": "EJ-IpiHGWv5S"
      },
      "source": [
        "**PROPORTIONAL LIMIT**: To find proportional limit we need to find the linear regression line with minimum 95% accuracy *(Using linear regression algorithm)*"
      ]
    },
    {
      "cell_type": "code",
      "metadata": {
        "colab": {
          "base_uri": "https://localhost:8080/"
        },
        "id": "m-v_43naXkVl",
        "outputId": "6206c391-bb4b-4140-98b8-d8b30be68b17"
      },
      "source": [
        "#finding multiple regression line and plotting the line with highest accuracy\n",
        "m = len(X)\n",
        "a = np.zeros(m)\n",
        "c = np.zeros(m)\n",
        "r2 = np.zeros(m)\n",
        "\n",
        "for i in range(50,m):\n",
        "  mean_x = 0\n",
        "  mean_y = 0\n",
        "  for j in range(i):\n",
        "    mean_x += X[j]\n",
        "    mean_y += Y[j]\n",
        "  mean_x = mean_x/i\n",
        "  mean_y = mean_y/i\n",
        "  num = 0\n",
        "  den = 0\n",
        "  for j in range(i):\n",
        "    num += (X[j]-mean_x)*(Y[j]-mean_y)\n",
        "    den += (X[j]-mean_x)**2\n",
        "  a[i] = num/den\n",
        "  c[i] = mean_y-(a[i]*mean_x)\n",
        "\n",
        "  ss_d = np.zeros(m)\n",
        "  ss_n = np.zeros(m)\n",
        "\n",
        "  for j in range(i):\n",
        "    predict_y = c[i]+a[i]*X[j]\n",
        "    ss_d[i] += (Y[j]-mean_y)**2\n",
        "    ss_n[i] += (Y[j]-predict_y)**2\n",
        "  r2[i] = 1-(ss_n[i]/ss_d[i])\n",
        "  \n",
        "  i_max = np.argmax(r2)\n",
        "  r2_final = np.max(r2)\n",
        "  a_final = a[i_max]\n",
        "  c_final = c[i_max]\n",
        "print(a_final,c_final,r2_final)"
      ],
      "execution_count": null,
      "outputs": [
        {
          "output_type": "stream",
          "text": [
            "52139.7880329209 42.60279283861331 0.9772272244880037\n"
          ],
          "name": "stdout"
        }
      ]
    },
    {
      "cell_type": "code",
      "metadata": {
        "colab": {
          "base_uri": "https://localhost:8080/"
        },
        "id": "kNrkIFwtXyCt",
        "outputId": "63a8df9b-cbfd-45d6-89c3-687f4d0c2a39"
      },
      "source": [
        "import random\n",
        "prop_lim = random.randint(0,m)\n",
        "\n",
        "for i in range(50,m):\n",
        "  if(r2[i]>=0.95):\n",
        "    prop_lim = i\n",
        "print(prop_lim)\n",
        "x2 = X[prop_lim]\n",
        "y2 = Y[prop_lim]\n",
        "print(y2)"
      ],
      "execution_count": null,
      "outputs": [
        {
          "output_type": "stream",
          "text": [
            "141\n",
            "247.3597401\n"
          ],
          "name": "stdout"
        }
      ]
    },
    {
      "cell_type": "code",
      "metadata": {
        "colab": {
          "base_uri": "https://localhost:8080/",
          "height": 308
        },
        "id": "W0HvrkKbYDJ8",
        "outputId": "07541050-33e1-4f1f-eaad-592fe5c999e4"
      },
      "source": [
        "max_x = np.max(X)+0.15\n",
        "min_x = np.min(X)-0.05\n",
        "\n",
        "x = np.linspace(min_x,max_x)\n",
        "y = c_final+a_final*x\n",
        "plt.ylim(-50, 350)\n",
        "\n",
        "plt.plot(x, y, color='#58b970', label='Regression line')\n",
        "plt.plot(X, Y, color='b', label='Stress-Strain Curve')\n",
        "plt.scatter(x2,y2,color='r',marker='.',s=100, label = 'Proportional Limit')\n",
        "plt.xlabel('Strain')\n",
        "plt.ylabel('Stress (in MPa)')\n",
        "plt.suptitle(\"\"\"Stress-Strain Curve at 100\\N{DEGREE SIGN}C\\n\"\"\", fontweight =\"bold\")\n",
        "plt.legend()\n",
        "plt.show()"
      ],
      "execution_count": null,
      "outputs": [
        {
          "output_type": "display_data",
          "data": {
            "image/png": "[encoded data removed]",
            "text/plain": [
              "<Figure size 432x288 with 1 Axes>"
            ]
          },
          "metadata": {
            "tags": [],
            "needs_background": "light"
          }
        }
      ]
    },
    {
      "cell_type": "markdown",
      "metadata": {
        "id": "nYn_JvPwZCVp"
      },
      "source": [
        "**Yeild Point:** To find yeild point we take an offset of 0.2% in strain and find the linear regression line with minimum 95% accuracy with the offset data (Using linear regression algorithm)"
      ]
    },
    {
      "cell_type": "code",
      "metadata": {
        "colab": {
          "base_uri": "https://localhost:8080/",
          "height": 502
        },
        "id": "GZPcVosUZtsK",
        "outputId": "3873e268-6811-4698-ae80-cb11c048e0c0"
      },
      "source": [
        "data[\"Offset Strain\"] = data[\"Strain\"] + 0.002\n",
        "data"
      ],
      "execution_count": null,
      "outputs": [
        {
          "output_type": "stream",
          "text": [
            "/usr/local/lib/python3.7/dist-packages/ipykernel_launcher.py:1: SettingWithCopyWarning: \n",
            "A value is trying to be set on a copy of a slice from a DataFrame.\n",
            "Try using .loc[row_indexer,col_indexer] = value instead\n",
            "\n",
            "See the caveats in the documentation: https://pandas.pydata.org/pandas-docs/stable/user_guide/indexing.html#returning-a-view-versus-a-copy\n",
            "  \"\"\"Entry point for launching an IPython kernel.\n"
          ],
          "name": "stderr"
        },
        {
          "output_type": "execute_result",
          "data": {
            "text/html": [
              "<div>\n",
              "<style scoped>\n",
              "    .dataframe tbody tr th:only-of-type {\n",
              "        vertical-align: middle;\n",
              "    }\n",
              "\n",
              "    .dataframe tbody tr th {\n",
              "        vertical-align: top;\n",
              "    }\n",
              "\n",
              "    .dataframe thead th {\n",
              "        text-align: right;\n",
              "    }\n",
              "</style>\n",
              "<table border=\"1\" class=\"dataframe\">\n",
              "  <thead>\n",
              "    <tr style=\"text-align: right;\">\n",
              "      <th></th>\n",
              "      <th>Alloy_Name</th>\n",
              "      <th>Temp (°C)</th>\n",
              "      <th>Strain</th>\n",
              "      <th>Stress_MPa</th>\n",
              "      <th>Specimen_Type</th>\n",
              "      <th>Offset Strain</th>\n",
              "    </tr>\n",
              "  </thead>\n",
              "  <tbody>\n",
              "    <tr>\n",
              "      <th>0</th>\n",
              "      <td>Al6061</td>\n",
              "      <td>100</td>\n",
              "      <td>-0.000018</td>\n",
              "      <td>0.460338</td>\n",
              "      <td>Uniaxial tension</td>\n",
              "      <td>0.001982</td>\n",
              "    </tr>\n",
              "    <tr>\n",
              "      <th>1</th>\n",
              "      <td>Al6061</td>\n",
              "      <td>100</td>\n",
              "      <td>-0.000025</td>\n",
              "      <td>0.893298</td>\n",
              "      <td>Uniaxial tension</td>\n",
              "      <td>0.001975</td>\n",
              "    </tr>\n",
              "    <tr>\n",
              "      <th>2</th>\n",
              "      <td>Al6061</td>\n",
              "      <td>100</td>\n",
              "      <td>-0.000046</td>\n",
              "      <td>1.407751</td>\n",
              "      <td>Uniaxial tension</td>\n",
              "      <td>0.001954</td>\n",
              "    </tr>\n",
              "    <tr>\n",
              "      <th>3</th>\n",
              "      <td>Al6061</td>\n",
              "      <td>100</td>\n",
              "      <td>-0.000061</td>\n",
              "      <td>1.965058</td>\n",
              "      <td>Uniaxial tension</td>\n",
              "      <td>0.001939</td>\n",
              "    </tr>\n",
              "    <tr>\n",
              "      <th>4</th>\n",
              "      <td>Al6061</td>\n",
              "      <td>100</td>\n",
              "      <td>-0.000095</td>\n",
              "      <td>2.850505</td>\n",
              "      <td>Uniaxial tension</td>\n",
              "      <td>0.001904</td>\n",
              "    </tr>\n",
              "    <tr>\n",
              "      <th>...</th>\n",
              "      <td>...</td>\n",
              "      <td>...</td>\n",
              "      <td>...</td>\n",
              "      <td>...</td>\n",
              "      <td>...</td>\n",
              "      <td>...</td>\n",
              "    </tr>\n",
              "    <tr>\n",
              "      <th>619</th>\n",
              "      <td>Al6061</td>\n",
              "      <td>100</td>\n",
              "      <td>0.114303</td>\n",
              "      <td>219.380867</td>\n",
              "      <td>Uniaxial tension</td>\n",
              "      <td>0.116303</td>\n",
              "    </tr>\n",
              "    <tr>\n",
              "      <th>620</th>\n",
              "      <td>Al6061</td>\n",
              "      <td>100</td>\n",
              "      <td>0.114715</td>\n",
              "      <td>217.522198</td>\n",
              "      <td>Uniaxial tension</td>\n",
              "      <td>0.116715</td>\n",
              "    </tr>\n",
              "    <tr>\n",
              "      <th>621</th>\n",
              "      <td>Al6061</td>\n",
              "      <td>100</td>\n",
              "      <td>0.114914</td>\n",
              "      <td>216.639858</td>\n",
              "      <td>Uniaxial tension</td>\n",
              "      <td>0.116914</td>\n",
              "    </tr>\n",
              "    <tr>\n",
              "      <th>622</th>\n",
              "      <td>Al6061</td>\n",
              "      <td>100</td>\n",
              "      <td>0.115126</td>\n",
              "      <td>215.746640</td>\n",
              "      <td>Uniaxial tension</td>\n",
              "      <td>0.117126</td>\n",
              "    </tr>\n",
              "    <tr>\n",
              "      <th>623</th>\n",
              "      <td>Al6061</td>\n",
              "      <td>100</td>\n",
              "      <td>0.115346</td>\n",
              "      <td>214.753025</td>\n",
              "      <td>Uniaxial tension</td>\n",
              "      <td>0.117346</td>\n",
              "    </tr>\n",
              "  </tbody>\n",
              "</table>\n",
              "<p>624 rows × 6 columns</p>\n",
              "</div>"
            ],
            "text/plain": [
              "    Alloy_Name  Temp (°C)  ...     Specimen_Type  Offset Strain\n",
              "0       Al6061        100  ...  Uniaxial tension       0.001982\n",
              "1       Al6061        100  ...  Uniaxial tension       0.001975\n",
              "2       Al6061        100  ...  Uniaxial tension       0.001954\n",
              "3       Al6061        100  ...  Uniaxial tension       0.001939\n",
              "4       Al6061        100  ...  Uniaxial tension       0.001904\n",
              "..         ...        ...  ...               ...            ...\n",
              "619     Al6061        100  ...  Uniaxial tension       0.116303\n",
              "620     Al6061        100  ...  Uniaxial tension       0.116715\n",
              "621     Al6061        100  ...  Uniaxial tension       0.116914\n",
              "622     Al6061        100  ...  Uniaxial tension       0.117126\n",
              "623     Al6061        100  ...  Uniaxial tension       0.117346\n",
              "\n",
              "[624 rows x 6 columns]"
            ]
          },
          "metadata": {
            "tags": []
          },
          "execution_count": 67
        }
      ]
    },
    {
      "cell_type": "code",
      "metadata": {
        "id": "zsZJ6wBJZ3fB"
      },
      "source": [
        "XX = data['Offset Strain'].values\n",
        "YY = data['Stress_MPa'].values"
      ],
      "execution_count": null,
      "outputs": []
    },
    {
      "cell_type": "code",
      "metadata": {
        "colab": {
          "base_uri": "https://localhost:8080/"
        },
        "id": "kUMXW3LLZ7X1",
        "outputId": "506a1634-4e32-430c-ad6b-c64cd78dd3cb"
      },
      "source": [
        "mm = len(X)\n",
        "a1 = np.zeros(mm)\n",
        "c1 = np.zeros(mm)\n",
        "r2_1 = np.zeros(mm)\n",
        "\n",
        "for i in range(50,mm):\n",
        "  mean_xx = 0\n",
        "  mean_yy = 0\n",
        "  for j in range(i):\n",
        "    mean_xx += XX[j]\n",
        "    mean_yy += YY[j]\n",
        "  mean_xx = mean_xx/i\n",
        "  mean_yy = mean_yy/i\n",
        "  num_1 = 0\n",
        "  den_1 = 0\n",
        "  for j in range(i):\n",
        "    num_1 += (XX[j]-mean_xx)*(YY[j]-mean_yy)\n",
        "    den_1 += (XX[j]-mean_xx)**2\n",
        "  a1[i] = num_1/den_1\n",
        "  c1[i] = mean_yy-(a1[i]*mean_xx)\n",
        "\n",
        "  ss_d1 = np.zeros(mm)\n",
        "  ss_n1 = np.zeros(mm)\n",
        "\n",
        "  for j in range(i):\n",
        "    predict_yy = c1[i]+a1[i]*XX[j]\n",
        "    ss_d1[i] += (Y[j]-mean_yy)**2\n",
        "    ss_n1[i] += (Y[j]-predict_yy)**2\n",
        "  r2_1[i] = 1-(ss_n1[i]/ss_d1[i])\n",
        "  \n",
        "  i_max1 = np.argmax(r2_1)\n",
        "  r2_1_final = np.max(r2_1)\n",
        "  a1_final = a1[i_max]\n",
        "  c1_final = c1[i_max]\n",
        "print(a1_final,c1_final,r2_1_final)"
      ],
      "execution_count": null,
      "outputs": [
        {
          "output_type": "stream",
          "text": [
            "52139.788032920886 -61.67678322722837 0.9772272244880037\n"
          ],
          "name": "stdout"
        }
      ]
    },
    {
      "cell_type": "code",
      "metadata": {
        "colab": {
          "base_uri": "https://localhost:8080/"
        },
        "id": "Eg5XHYk-aDQo",
        "outputId": "a2100217-073c-4626-b3ce-3130ec7d0e30"
      },
      "source": [
        "for i in range (50, mm):\n",
        "  if(data.iloc[prop_lim]['Offset Strain'] <= data.iloc[i]['Strain']) :\n",
        "    x3 = data.loc[i].Strain\n",
        "    y3 = data.loc[i].Stress_MPa\n",
        "    break\n",
        "print(y3)"
      ],
      "execution_count": null,
      "outputs": [
        {
          "output_type": "stream",
          "text": [
            "249.10772180000004\n"
          ],
          "name": "stdout"
        }
      ]
    },
    {
      "cell_type": "code",
      "metadata": {
        "colab": {
          "base_uri": "https://localhost:8080/",
          "height": 308
        },
        "id": "KcezhbykaSWW",
        "outputId": "b8339324-2542-4d1b-a372-f31ece2fbac9"
      },
      "source": [
        "max_x = np.max(X)+0.15\n",
        "min_x = np.min(X)-0.05\n",
        "\n",
        "max_xx = np.max(X)+0.15\n",
        "min_xx = np.min(X)-0.05\n",
        "\n",
        "x = np.linspace(min_x,max_x)\n",
        "y = c_final+a_final*x\n",
        "\n",
        "xx = np.linspace(min_xx,max_xx)\n",
        "yy = c1_final+a1_final*xx\n",
        "plt.ylim(-50, 350)\n",
        "\n",
        "plt.plot(x, y, color='#58b970', label='Regression line')\n",
        "plt.plot(xx, yy, color='y', label='Offset Regression line')\n",
        "plt.plot(X, Y, color='b', label='Stress-Strain Curve')\n",
        "plt.scatter(x2,y2,color='r',marker='.',s=100, label = 'Proportional Limit')\n",
        "plt.scatter(x3,y3,color='m',marker='.',s=100, label = 'Yeild Point')\n",
        "plt.xlabel('Strain')\n",
        "plt.ylabel('Stress (in MPa)')\n",
        "plt.suptitle(\"\"\"Stress-Strain Curve at 100\\N{DEGREE SIGN}C\\n\"\"\", fontweight =\"bold\")\n",
        "plt.legend()\n",
        "plt.show()"
      ],
      "execution_count": null,
      "outputs": [
        {
          "output_type": "display_data",
          "data": {
            "image/png": "[encoded data removed]",
            "text/plain": [
              "<Figure size 432x288 with 1 Axes>"
            ]
          },
          "metadata": {
            "tags": [],
            "needs_background": "light"
          }
        }
      ]
    },
    {
      "cell_type": "markdown",
      "metadata": {
        "id": "jfERKvrKakwf"
      },
      "source": [
        "**Ultimate Tensile Strength:** The maximum stress in stress-strain curve is UTS."
      ]
    },
    {
      "cell_type": "code",
      "metadata": {
        "colab": {
          "base_uri": "https://localhost:8080/"
        },
        "id": "ZjpkRCkXadRe",
        "outputId": "894c4a28-df02-4e8d-862a-eb95c0407e17"
      },
      "source": [
        "max_stress = data.iloc[data['Stress_MPa'].idxmax()]\n",
        "x4 = max_stress['Strain']\n",
        "y4 = max_stress['Stress_MPa']\n",
        "print(y4)"
      ],
      "execution_count": null,
      "outputs": [
        {
          "output_type": "stream",
          "text": [
            "264.7570897\n"
          ],
          "name": "stdout"
        }
      ]
    },
    {
      "cell_type": "markdown",
      "metadata": {
        "id": "nx5a0Vwea816"
      },
      "source": [
        "**Fracture Point:** The last value of stress before the rod breaks is FP."
      ]
    },
    {
      "cell_type": "code",
      "metadata": {
        "colab": {
          "base_uri": "https://localhost:8080/"
        },
        "id": "qX2ykyTqa2W6",
        "outputId": "a8249587-3cde-47e7-f65c-2b35a0f23390"
      },
      "source": [
        "x5 = X[m-1]\n",
        "y5 = Y[m-1]\n",
        "print(y5)"
      ],
      "execution_count": null,
      "outputs": [
        {
          "output_type": "stream",
          "text": [
            "214.7530254\n"
          ],
          "name": "stdout"
        }
      ]
    },
    {
      "cell_type": "code",
      "metadata": {
        "colab": {
          "base_uri": "https://localhost:8080/",
          "height": 375
        },
        "id": "1jSiBEPWbObR",
        "outputId": "c4cdc5b7-0a69-4b76-d7d4-18297cd87c13"
      },
      "source": [
        "plt.ylim(-50, 350)\n",
        "\n",
        "plt.plot(x, y, color='#58b970', label='Regression line')\n",
        "plt.plot(xx, yy, color='y', label='Offset Regression line')\n",
        "plt.plot(X, Y, color='b', label='Scatter Plot')\n",
        "plt.scatter(x2,y2,color='r',marker='.',s=100, label = 'Proportional Limit')\n",
        "plt.scatter(x3,y3,color='m',marker='.',s=100, label = 'Yeild Point')\n",
        "plt.scatter(x4,y4,color='orange',marker='.',s=100, label = 'Ultimate Tensile Strength')\n",
        "plt.scatter(x5,y5,color='teal',marker='.',s=100, label = 'Fracture Point')\n",
        "plt.xlabel('Strain')\n",
        "plt.ylabel('Stress (in MPa)')\n",
        "plt.suptitle(\"\"\"Stress-Strain Curve at 100\\N{DEGREE SIGN}C\\n\"\"\", fontweight =\"bold\")\n",
        "plt.legend()\n",
        "plt.show()\n",
        "\n",
        "print('Proportional limit :' ,y2 ,'MPa')\n",
        "print('Yield Strength :' ,y3 ,'MPa')\n",
        "print('Ultimate tensile strength :' , y4 ,'MPa')\n",
        "print('Proportional limit :' ,y5 ,'MPa')"
      ],
      "execution_count": null,
      "outputs": [
        {
          "output_type": "display_data",
          "data": {
            "image/png": "[encoded data removed]",
            "text/plain": [
              "<Figure size 432x288 with 1 Axes>"
            ]
          },
          "metadata": {
            "tags": [],
            "needs_background": "light"
          }
        },
        {
          "output_type": "stream",
          "text": [
            "Proportional limit : 247.3597401 MPa\n",
            "Yield Strength : 249.10772180000004 MPa\n",
            "Ultimate tensile strength : 264.7570897 MPa\n",
            "Proportional limit : 214.7530254 MPa\n"
          ],
          "name": "stdout"
        }
      ]
    },
    {
      "cell_type": "markdown",
      "metadata": {
        "id": "2P8Dfj1bbkXq"
      },
      "source": [
        "**Model Accuracy:**"
      ]
    },
    {
      "cell_type": "code",
      "metadata": {
        "colab": {
          "base_uri": "https://localhost:8080/"
        },
        "id": "6AVnDjshbo3Z",
        "outputId": "a4b23d9e-ff27-47e8-ffb9-c9fef77c9a6a"
      },
      "source": [
        "print('The acuuracy for this model is ''%0.2f'%(r2_final*100),\"%\")"
      ],
      "execution_count": null,
      "outputs": [
        {
          "output_type": "stream",
          "text": [
            "The acuuracy for this model is 97.72 %\n"
          ],
          "name": "stdout"
        }
      ]
    }
  ]
}