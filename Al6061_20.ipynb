{
  "nbformat": 4,
  "nbformat_minor": 0,
  "metadata": {
    "colab": {
      "name": "Al6061_20.ipynb",
      "provenance": [],
      "mount_file_id": "1B1bozjU8Pkn1mSX9zUWWk_ts2E_9IIK-",
      "authorship_tag": "ABX9TyOI/I7HLnnNmNWtEgIFzuVm",
      "include_colab_link": true
    },
    "kernelspec": {
      "name": "python3",
      "display_name": "Python 3"
    }
  },
  "cells": [
    {
      "cell_type": "markdown",
      "metadata": {
        "id": "view-in-github",
        "colab_type": "text"
      },
      "source": [
        "<a href=\"https://colab.research.google.com/github/dhruvjha206/Mech-Prop-using-ML/blob/main/Al6061_20.ipynb\" target=\"_parent\"><img src=\"https://colab.research.google.com/assets/colab-badge.svg\" alt=\"Open In Colab\"/></a>"
      ]
    },
    {
      "cell_type": "markdown",
      "metadata": {
        "id": "z5vV6UfRo5bR"
      },
      "source": [
        "### **For Aluminium 6061 Alloy at 20°C**"
      ]
    },
    {
      "cell_type": "code",
      "metadata": {
        "id": "qPzXV-2LoTkV"
      },
      "source": [
        "# Importing Important Libraries\n",
        "import numpy as np\n",
        "import matplotlib.pyplot as plt\n",
        "import pandas as pd\n",
        "import seaborn as sn\n",
        "\n",
        "from sklearn.linear_model import LinearRegression\n",
        "from sklearn import metrics\n",
        "import pandas.testing as tm\n",
        "from sklearn.preprocessing import PolynomialFeatures\n",
        "import sklearn.metrics as slm"
      ],
      "execution_count": 7,
      "outputs": []
    },
    {
      "cell_type": "markdown",
      "metadata": {
        "id": "lK2OfkbHpODS"
      },
      "source": [
        "### Data Preparation"
      ]
    },
    {
      "cell_type": "markdown",
      "metadata": {
        "id": "dbIz2rfFpT6E"
      },
      "source": [
        "About the Data Set\n",
        "\n",
        "The dataset is stress-strain ( Tensile and Microindentation ) of Aluminium 6061 Alloy under uniaxial and plain strain tension at 6 different temperatures."
      ]
    },
    {
      "cell_type": "code",
      "metadata": {
        "colab": {
          "base_uri": "https://localhost:8080/"
        },
        "id": "VHG7W-0CpF29",
        "outputId": "deea2b7a-ca29-41d1-d06f-4282ea064abf"
      },
      "source": [
        "from google.colab import drive\n",
        "drive.mount('/content/drive')"
      ],
      "execution_count": 9,
      "outputs": [
        {
          "output_type": "stream",
          "text": [
            "Drive already mounted at /content/drive; to attempt to forcibly remount, call drive.mount(\"/content/drive\", force_remount=True).\n"
          ],
          "name": "stdout"
        }
      ]
    },
    {
      "cell_type": "code",
      "metadata": {
        "id": "FasyF83ypYHA"
      },
      "source": [
        "#reading csv\n",
        "path = \"/content/drive/MyDrive/Al6061_20.csv\"\n",
        "df = pd.read_csv(path, encoding= 'unicode_escape')"
      ],
      "execution_count": 13,
      "outputs": []
    },
    {
      "cell_type": "markdown",
      "metadata": {
        "id": "Ab1fMZ72plh9"
      },
      "source": [
        "Dataset"
      ]
    },
    {
      "cell_type": "code",
      "metadata": {
        "colab": {
          "base_uri": "https://localhost:8080/",
          "height": 402
        },
        "id": "dGj2AnFqpcqD",
        "outputId": "a0df6a76-1eac-42f4-d644-9a2c5c6a5e16"
      },
      "source": [
        "df"
      ],
      "execution_count": 14,
      "outputs": [
        {
          "output_type": "execute_result",
          "data": {
            "text/html": [
              "<div>\n",
              "<style scoped>\n",
              "    .dataframe tbody tr th:only-of-type {\n",
              "        vertical-align: middle;\n",
              "    }\n",
              "\n",
              "    .dataframe tbody tr th {\n",
              "        vertical-align: top;\n",
              "    }\n",
              "\n",
              "    .dataframe thead th {\n",
              "        text-align: right;\n",
              "    }\n",
              "</style>\n",
              "<table border=\"1\" class=\"dataframe\">\n",
              "  <thead>\n",
              "    <tr style=\"text-align: right;\">\n",
              "      <th></th>\n",
              "      <th>Alloy_Name</th>\n",
              "      <th>Temp (°C)</th>\n",
              "      <th>Strain</th>\n",
              "      <th>Stress_MPa</th>\n",
              "      <th>Specimen_Type</th>\n",
              "    </tr>\n",
              "  </thead>\n",
              "  <tbody>\n",
              "    <tr>\n",
              "      <th>0</th>\n",
              "      <td>Al6061</td>\n",
              "      <td>20</td>\n",
              "      <td>-0.000011</td>\n",
              "      <td>0.598606</td>\n",
              "      <td>Uniaxial tension</td>\n",
              "    </tr>\n",
              "    <tr>\n",
              "      <th>1</th>\n",
              "      <td>Al6061</td>\n",
              "      <td>20</td>\n",
              "      <td>-0.000012</td>\n",
              "      <td>0.606464</td>\n",
              "      <td>Uniaxial tension</td>\n",
              "    </tr>\n",
              "    <tr>\n",
              "      <th>2</th>\n",
              "      <td>Al6061</td>\n",
              "      <td>20</td>\n",
              "      <td>-0.000014</td>\n",
              "      <td>0.612953</td>\n",
              "      <td>Uniaxial tension</td>\n",
              "    </tr>\n",
              "    <tr>\n",
              "      <th>3</th>\n",
              "      <td>Al6061</td>\n",
              "      <td>20</td>\n",
              "      <td>-0.000023</td>\n",
              "      <td>0.618383</td>\n",
              "      <td>Uniaxial tension</td>\n",
              "    </tr>\n",
              "    <tr>\n",
              "      <th>4</th>\n",
              "      <td>Al6061</td>\n",
              "      <td>20</td>\n",
              "      <td>-0.000040</td>\n",
              "      <td>0.731632</td>\n",
              "      <td>Uniaxial tension</td>\n",
              "    </tr>\n",
              "    <tr>\n",
              "      <th>...</th>\n",
              "      <td>...</td>\n",
              "      <td>...</td>\n",
              "      <td>...</td>\n",
              "      <td>...</td>\n",
              "      <td>...</td>\n",
              "    </tr>\n",
              "    <tr>\n",
              "      <th>207</th>\n",
              "      <td>Al6061</td>\n",
              "      <td>20</td>\n",
              "      <td>0.103016</td>\n",
              "      <td>279.749201</td>\n",
              "      <td>Uniaxial tension</td>\n",
              "    </tr>\n",
              "    <tr>\n",
              "      <th>208</th>\n",
              "      <td>Al6061</td>\n",
              "      <td>20</td>\n",
              "      <td>0.103487</td>\n",
              "      <td>278.960666</td>\n",
              "      <td>Uniaxial tension</td>\n",
              "    </tr>\n",
              "    <tr>\n",
              "      <th>209</th>\n",
              "      <td>Al6061</td>\n",
              "      <td>20</td>\n",
              "      <td>0.103955</td>\n",
              "      <td>278.155939</td>\n",
              "      <td>Uniaxial tension</td>\n",
              "    </tr>\n",
              "    <tr>\n",
              "      <th>210</th>\n",
              "      <td>Al6061</td>\n",
              "      <td>20</td>\n",
              "      <td>0.104425</td>\n",
              "      <td>277.249995</td>\n",
              "      <td>Uniaxial tension</td>\n",
              "    </tr>\n",
              "    <tr>\n",
              "      <th>211</th>\n",
              "      <td>Al6061</td>\n",
              "      <td>20</td>\n",
              "      <td>0.104426</td>\n",
              "      <td>0.000000</td>\n",
              "      <td>Uniaxial tension</td>\n",
              "    </tr>\n",
              "  </tbody>\n",
              "</table>\n",
              "<p>212 rows × 5 columns</p>\n",
              "</div>"
            ],
            "text/plain": [
              "    Alloy_Name  Temp (°C)    Strain  Stress_MPa     Specimen_Type\n",
              "0       Al6061         20 -0.000011    0.598606  Uniaxial tension\n",
              "1       Al6061         20 -0.000012    0.606464  Uniaxial tension\n",
              "2       Al6061         20 -0.000014    0.612953  Uniaxial tension\n",
              "3       Al6061         20 -0.000023    0.618383  Uniaxial tension\n",
              "4       Al6061         20 -0.000040    0.731632  Uniaxial tension\n",
              "..         ...        ...       ...         ...               ...\n",
              "207     Al6061         20  0.103016  279.749201  Uniaxial tension\n",
              "208     Al6061         20  0.103487  278.960666  Uniaxial tension\n",
              "209     Al6061         20  0.103955  278.155939  Uniaxial tension\n",
              "210     Al6061         20  0.104425  277.249995  Uniaxial tension\n",
              "211     Al6061         20  0.104426    0.000000  Uniaxial tension\n",
              "\n",
              "[212 rows x 5 columns]"
            ]
          },
          "metadata": {
            "tags": []
          },
          "execution_count": 14
        }
      ]
    },
    {
      "cell_type": "markdown",
      "metadata": {
        "id": "IJhVe-8gpq1_"
      },
      "source": [
        "Finding Missing Values in the Data Set"
      ]
    },
    {
      "cell_type": "code",
      "metadata": {
        "colab": {
          "base_uri": "https://localhost:8080/"
        },
        "id": "lNqjgHUspm7X",
        "outputId": "d1976fb5-c262-4855-cfd4-1d12a29757c5"
      },
      "source": [
        "df.isnull().sum()"
      ],
      "execution_count": 15,
      "outputs": [
        {
          "output_type": "execute_result",
          "data": {
            "text/plain": [
              "Alloy_Name       0\n",
              "Temp (°C)        0\n",
              "Strain           0\n",
              "Stress_MPa       0\n",
              "Specimen_Type    0\n",
              "dtype: int64"
            ]
          },
          "metadata": {
            "tags": []
          },
          "execution_count": 15
        }
      ]
    },
    {
      "cell_type": "code",
      "metadata": {
        "colab": {
          "base_uri": "https://localhost:8080/",
          "height": 402
        },
        "id": "AfK3eqCbptms",
        "outputId": "5cb70d24-3220-447f-fa5c-1228ce05bb50"
      },
      "source": [
        "df = df.drop([df.index[211]])\n",
        "df"
      ],
      "execution_count": 16,
      "outputs": [
        {
          "output_type": "execute_result",
          "data": {
            "text/html": [
              "<div>\n",
              "<style scoped>\n",
              "    .dataframe tbody tr th:only-of-type {\n",
              "        vertical-align: middle;\n",
              "    }\n",
              "\n",
              "    .dataframe tbody tr th {\n",
              "        vertical-align: top;\n",
              "    }\n",
              "\n",
              "    .dataframe thead th {\n",
              "        text-align: right;\n",
              "    }\n",
              "</style>\n",
              "<table border=\"1\" class=\"dataframe\">\n",
              "  <thead>\n",
              "    <tr style=\"text-align: right;\">\n",
              "      <th></th>\n",
              "      <th>Alloy_Name</th>\n",
              "      <th>Temp (°C)</th>\n",
              "      <th>Strain</th>\n",
              "      <th>Stress_MPa</th>\n",
              "      <th>Specimen_Type</th>\n",
              "    </tr>\n",
              "  </thead>\n",
              "  <tbody>\n",
              "    <tr>\n",
              "      <th>0</th>\n",
              "      <td>Al6061</td>\n",
              "      <td>20</td>\n",
              "      <td>-0.000011</td>\n",
              "      <td>0.598606</td>\n",
              "      <td>Uniaxial tension</td>\n",
              "    </tr>\n",
              "    <tr>\n",
              "      <th>1</th>\n",
              "      <td>Al6061</td>\n",
              "      <td>20</td>\n",
              "      <td>-0.000012</td>\n",
              "      <td>0.606464</td>\n",
              "      <td>Uniaxial tension</td>\n",
              "    </tr>\n",
              "    <tr>\n",
              "      <th>2</th>\n",
              "      <td>Al6061</td>\n",
              "      <td>20</td>\n",
              "      <td>-0.000014</td>\n",
              "      <td>0.612953</td>\n",
              "      <td>Uniaxial tension</td>\n",
              "    </tr>\n",
              "    <tr>\n",
              "      <th>3</th>\n",
              "      <td>Al6061</td>\n",
              "      <td>20</td>\n",
              "      <td>-0.000023</td>\n",
              "      <td>0.618383</td>\n",
              "      <td>Uniaxial tension</td>\n",
              "    </tr>\n",
              "    <tr>\n",
              "      <th>4</th>\n",
              "      <td>Al6061</td>\n",
              "      <td>20</td>\n",
              "      <td>-0.000040</td>\n",
              "      <td>0.731632</td>\n",
              "      <td>Uniaxial tension</td>\n",
              "    </tr>\n",
              "    <tr>\n",
              "      <th>...</th>\n",
              "      <td>...</td>\n",
              "      <td>...</td>\n",
              "      <td>...</td>\n",
              "      <td>...</td>\n",
              "      <td>...</td>\n",
              "    </tr>\n",
              "    <tr>\n",
              "      <th>206</th>\n",
              "      <td>Al6061</td>\n",
              "      <td>20</td>\n",
              "      <td>0.102075</td>\n",
              "      <td>281.491897</td>\n",
              "      <td>Uniaxial tension</td>\n",
              "    </tr>\n",
              "    <tr>\n",
              "      <th>207</th>\n",
              "      <td>Al6061</td>\n",
              "      <td>20</td>\n",
              "      <td>0.103016</td>\n",
              "      <td>279.749201</td>\n",
              "      <td>Uniaxial tension</td>\n",
              "    </tr>\n",
              "    <tr>\n",
              "      <th>208</th>\n",
              "      <td>Al6061</td>\n",
              "      <td>20</td>\n",
              "      <td>0.103487</td>\n",
              "      <td>278.960666</td>\n",
              "      <td>Uniaxial tension</td>\n",
              "    </tr>\n",
              "    <tr>\n",
              "      <th>209</th>\n",
              "      <td>Al6061</td>\n",
              "      <td>20</td>\n",
              "      <td>0.103955</td>\n",
              "      <td>278.155939</td>\n",
              "      <td>Uniaxial tension</td>\n",
              "    </tr>\n",
              "    <tr>\n",
              "      <th>210</th>\n",
              "      <td>Al6061</td>\n",
              "      <td>20</td>\n",
              "      <td>0.104425</td>\n",
              "      <td>277.249995</td>\n",
              "      <td>Uniaxial tension</td>\n",
              "    </tr>\n",
              "  </tbody>\n",
              "</table>\n",
              "<p>211 rows × 5 columns</p>\n",
              "</div>"
            ],
            "text/plain": [
              "    Alloy_Name  Temp (°C)    Strain  Stress_MPa     Specimen_Type\n",
              "0       Al6061         20 -0.000011    0.598606  Uniaxial tension\n",
              "1       Al6061         20 -0.000012    0.606464  Uniaxial tension\n",
              "2       Al6061         20 -0.000014    0.612953  Uniaxial tension\n",
              "3       Al6061         20 -0.000023    0.618383  Uniaxial tension\n",
              "4       Al6061         20 -0.000040    0.731632  Uniaxial tension\n",
              "..         ...        ...       ...         ...               ...\n",
              "206     Al6061         20  0.102075  281.491897  Uniaxial tension\n",
              "207     Al6061         20  0.103016  279.749201  Uniaxial tension\n",
              "208     Al6061         20  0.103487  278.960666  Uniaxial tension\n",
              "209     Al6061         20  0.103955  278.155939  Uniaxial tension\n",
              "210     Al6061         20  0.104425  277.249995  Uniaxial tension\n",
              "\n",
              "[211 rows x 5 columns]"
            ]
          },
          "metadata": {
            "tags": []
          },
          "execution_count": 16
        }
      ]
    },
    {
      "cell_type": "markdown",
      "metadata": {
        "id": "vgjRHX2op3hj"
      },
      "source": [
        "Let's Do Some Exploratory Analysis"
      ]
    },
    {
      "cell_type": "code",
      "metadata": {
        "colab": {
          "base_uri": "https://localhost:8080/"
        },
        "id": "NWPI2AQSpvsY",
        "outputId": "9c2edf6e-8461-4c20-d97c-adbe744fbc3b"
      },
      "source": [
        "df.info()"
      ],
      "execution_count": 17,
      "outputs": [
        {
          "output_type": "stream",
          "text": [
            "<class 'pandas.core.frame.DataFrame'>\n",
            "Int64Index: 211 entries, 0 to 210\n",
            "Data columns (total 5 columns):\n",
            " #   Column         Non-Null Count  Dtype  \n",
            "---  ------         --------------  -----  \n",
            " 0   Alloy_Name     211 non-null    object \n",
            " 1   Temp (°C)      211 non-null    int64  \n",
            " 2   Strain         211 non-null    float64\n",
            " 3   Stress_MPa     211 non-null    float64\n",
            " 4   Specimen_Type  211 non-null    object \n",
            "dtypes: float64(2), int64(1), object(2)\n",
            "memory usage: 9.9+ KB\n"
          ],
          "name": "stdout"
        }
      ]
    },
    {
      "cell_type": "code",
      "metadata": {
        "colab": {
          "base_uri": "https://localhost:8080/",
          "height": 284
        },
        "id": "7urirPkvp5zp",
        "outputId": "d77533ac-cddc-496d-e42a-c4c10ca989db"
      },
      "source": [
        "df.describe()"
      ],
      "execution_count": 18,
      "outputs": [
        {
          "output_type": "execute_result",
          "data": {
            "text/html": [
              "<div>\n",
              "<style scoped>\n",
              "    .dataframe tbody tr th:only-of-type {\n",
              "        vertical-align: middle;\n",
              "    }\n",
              "\n",
              "    .dataframe tbody tr th {\n",
              "        vertical-align: top;\n",
              "    }\n",
              "\n",
              "    .dataframe thead th {\n",
              "        text-align: right;\n",
              "    }\n",
              "</style>\n",
              "<table border=\"1\" class=\"dataframe\">\n",
              "  <thead>\n",
              "    <tr style=\"text-align: right;\">\n",
              "      <th></th>\n",
              "      <th>Temp (°C)</th>\n",
              "      <th>Strain</th>\n",
              "      <th>Stress_MPa</th>\n",
              "    </tr>\n",
              "  </thead>\n",
              "  <tbody>\n",
              "    <tr>\n",
              "      <th>count</th>\n",
              "      <td>211.0</td>\n",
              "      <td>211.000000</td>\n",
              "      <td>211.000000</td>\n",
              "    </tr>\n",
              "    <tr>\n",
              "      <th>mean</th>\n",
              "      <td>20.0</td>\n",
              "      <td>0.042778</td>\n",
              "      <td>248.772842</td>\n",
              "    </tr>\n",
              "    <tr>\n",
              "      <th>std</th>\n",
              "      <td>0.0</td>\n",
              "      <td>0.032092</td>\n",
              "      <td>77.334915</td>\n",
              "    </tr>\n",
              "    <tr>\n",
              "      <th>min</th>\n",
              "      <td>20.0</td>\n",
              "      <td>-0.000066</td>\n",
              "      <td>0.598606</td>\n",
              "    </tr>\n",
              "    <tr>\n",
              "      <th>25%</th>\n",
              "      <td>20.0</td>\n",
              "      <td>0.013195</td>\n",
              "      <td>265.686624</td>\n",
              "    </tr>\n",
              "    <tr>\n",
              "      <th>50%</th>\n",
              "      <td>20.0</td>\n",
              "      <td>0.040571</td>\n",
              "      <td>279.492681</td>\n",
              "    </tr>\n",
              "    <tr>\n",
              "      <th>75%</th>\n",
              "      <td>20.0</td>\n",
              "      <td>0.069089</td>\n",
              "      <td>287.882812</td>\n",
              "    </tr>\n",
              "    <tr>\n",
              "      <th>max</th>\n",
              "      <td>20.0</td>\n",
              "      <td>0.104425</td>\n",
              "      <td>291.821443</td>\n",
              "    </tr>\n",
              "  </tbody>\n",
              "</table>\n",
              "</div>"
            ],
            "text/plain": [
              "       Temp (°C)      Strain  Stress_MPa\n",
              "count      211.0  211.000000  211.000000\n",
              "mean        20.0    0.042778  248.772842\n",
              "std          0.0    0.032092   77.334915\n",
              "min         20.0   -0.000066    0.598606\n",
              "25%         20.0    0.013195  265.686624\n",
              "50%         20.0    0.040571  279.492681\n",
              "75%         20.0    0.069089  287.882812\n",
              "max         20.0    0.104425  291.821443"
            ]
          },
          "metadata": {
            "tags": []
          },
          "execution_count": 18
        }
      ]
    },
    {
      "cell_type": "code",
      "metadata": {
        "colab": {
          "base_uri": "https://localhost:8080/",
          "height": 567
        },
        "id": "JvyJleIap9Cf",
        "outputId": "9bbab860-2f29-4b40-96fa-f553ce33a61f"
      },
      "source": [
        "sn.pairplot(data=df)"
      ],
      "execution_count": null,
      "outputs": [
        {
          "output_type": "execute_result",
          "data": {
            "text/plain": [
              "<seaborn.axisgrid.PairGrid at 0x7f71d1b645d0>"
            ]
          },
          "metadata": {
            "tags": []
          },
          "execution_count": 11
        },
        {
          "output_type": "display_data",
          "data": {
            "image/png": "[encoded data removed]",
            "text/plain": [
              "<Figure size 540x540 with 12 Axes>"
            ]
          },
          "metadata": {
            "tags": [],
            "needs_background": "light"
          }
        }
      ]
    },
    {
      "cell_type": "markdown",
      "metadata": {
        "id": "oamMuJBGqKgY"
      },
      "source": [
        "Data Plotting (Stress-strain curve)"
      ]
    },
    {
      "cell_type": "code",
      "metadata": {
        "colab": {
          "base_uri": "https://localhost:8080/",
          "height": 295
        },
        "id": "El1efE3qqAyV",
        "outputId": "d6d0fae8-9669-474a-d2fb-3b25a64ed866"
      },
      "source": [
        "plt.plot(df[\"Strain\"], df[\"Stress_MPa\"], color='r', label = 'Temp = 20')\n",
        "plt.title(\"Stress vs Strain\")\n",
        "plt.xlabel(\"Strain\")\n",
        "plt.ylabel(\"Stress\")\n",
        "plt.legend()\n",
        "plt.show()"
      ],
      "execution_count": null,
      "outputs": [
        {
          "output_type": "display_data",
          "data": {
            "image/png": "[encoded data removed]",
            "text/plain": [
              "<Figure size 432x288 with 1 Axes>"
            ]
          },
          "metadata": {
            "tags": [],
            "needs_background": "light"
          }
        }
      ]
    },
    {
      "cell_type": "code",
      "metadata": {
        "id": "0lRFnDQWqMxE"
      },
      "source": [
        "row = df.shape[0]\n",
        "col = df.shape[1]"
      ],
      "execution_count": null,
      "outputs": []
    },
    {
      "cell_type": "markdown",
      "metadata": {
        "id": "X6rrpyY-qjx6"
      },
      "source": [
        "For finding **PROPORTIONAL LIMIT**, we need to find **Linear Regression line** with **minimum 95% accuracy**:"
      ]
    },
    {
      "cell_type": "code",
      "metadata": {
        "colab": {
          "base_uri": "https://localhost:8080/"
        },
        "id": "lxQspQceqPeU",
        "outputId": "28c2fe2d-0426-4778-a5e6-dbad6c8d0ef8"
      },
      "source": [
        "# Plotting multiple Regression lines and finding their accuracy \n",
        "import random\n",
        "prop_lim = random.randint(0,row)\n",
        "\n",
        "for i in range(2, row):\n",
        "  #Change to DataFrame \n",
        "  x = pd.DataFrame(df.loc[0:i , ['Strain']])\n",
        "  y = pd.DataFrame(df.loc[0:i , ['Stress_MPa']])\n",
        "\n",
        "  model = LinearRegression().fit(x, y)\n",
        "  y_new = model.predict(x)\n",
        "\n",
        "  acc = round(slm.r2_score(y, y_new), 2)\n",
        "  if acc >= 0.95 :\n",
        "    prop_lim = i\n",
        "prop_lim   "
      ],
      "execution_count": null,
      "outputs": [
        {
          "output_type": "execute_result",
          "data": {
            "text/plain": [
              "41"
            ]
          },
          "metadata": {
            "tags": []
          },
          "execution_count": 14
        }
      ]
    },
    {
      "cell_type": "code",
      "metadata": {
        "id": "ynXUC8V6qoCN"
      },
      "source": [
        "x1 = df.loc[[prop_lim-2]].Strain\n",
        "y1 = df.iloc[[prop_lim-2]].Stress_MPa"
      ],
      "execution_count": null,
      "outputs": []
    },
    {
      "cell_type": "markdown",
      "metadata": {
        "id": "qDw3cwSWqwZh"
      },
      "source": [
        "### Building Regression model"
      ]
    },
    {
      "cell_type": "code",
      "metadata": {
        "id": "d8gd3MOfqseF"
      },
      "source": [
        "x = pd.DataFrame(df.loc[0:prop_lim , ['Strain']])\n",
        "y = pd.DataFrame(df.loc[0:prop_lim , ['Stress_MPa']])\n",
        "\n",
        "model = LinearRegression().fit(x, y)\n",
        "y_new = model.predict(x)"
      ],
      "execution_count": null,
      "outputs": []
    },
    {
      "cell_type": "markdown",
      "metadata": {
        "id": "d3_NGj_jq530"
      },
      "source": [
        "Plotting Regression line and Proportional limit"
      ]
    },
    {
      "cell_type": "code",
      "metadata": {
        "colab": {
          "base_uri": "https://localhost:8080/",
          "height": 295
        },
        "id": "1ndXp-9vq2S-",
        "outputId": "fcadede8-a3f4-4f01-d334-7172ff5602f5"
      },
      "source": [
        "plt.scatter(df[\"Strain\"], df[\"Stress_MPa\"], color='r', label = 'Al6061')\n",
        "plt.plot(x, y_new, label='Linear Regression' )\n",
        "plt.scatter(x1,y1,color='b',marker='*',s=200, label = 'Proportional LIMIT')\n",
        "plt.title(\"Stress vs Strain\")\n",
        "plt.xlabel(\"Strain\")\n",
        "plt.ylabel(\"Stress\")\n",
        "plt.legend()\n",
        "plt.show()"
      ],
      "execution_count": null,
      "outputs": [
        {
          "output_type": "display_data",
          "data": {
            "image/png": "[encoded data removed]",
            "text/plain": [
              "<Figure size 432x288 with 1 Axes>"
            ]
          },
          "metadata": {
            "tags": [],
            "needs_background": "light"
          }
        }
      ]
    },
    {
      "cell_type": "code",
      "metadata": {
        "id": "yvEvmgrFq8rm"
      },
      "source": [
        "# For Fracture Point\n",
        "x4 = df.loc[[row-2]].Strain\n",
        "y4 = df.loc[[row-2]].Stress_MPa"
      ],
      "execution_count": null,
      "outputs": []
    },
    {
      "cell_type": "markdown",
      "metadata": {
        "id": "84U4bjRUrJmR"
      },
      "source": [
        "For the ultimate tensile strength:"
      ]
    },
    {
      "cell_type": "code",
      "metadata": {
        "id": "t3C5lpRvrG0x"
      },
      "source": [
        "max_Stress = df.iloc[df['Stress_MPa'].idxmax()]\n",
        "x3 = max_Stress['Strain']\n",
        "y3 = max_Stress['Stress_MPa']"
      ],
      "execution_count": null,
      "outputs": []
    },
    {
      "cell_type": "markdown",
      "metadata": {
        "id": "75UbCuzyrPZn"
      },
      "source": [
        "Finding Yield Point using offset method"
      ]
    },
    {
      "cell_type": "code",
      "metadata": {
        "colab": {
          "base_uri": "https://localhost:8080/",
          "height": 402
        },
        "id": "ZW4Y6UD5rMqT",
        "outputId": "08782b5e-8920-4242-8155-fec53dca2350"
      },
      "source": [
        "#Taking 0.2% as offset\n",
        "df[\"Offset\"] = df[\"Strain\"] + 0.002\n",
        "df"
      ],
      "execution_count": null,
      "outputs": [
        {
          "output_type": "execute_result",
          "data": {
            "text/html": [
              "<div>\n",
              "<style scoped>\n",
              "    .dataframe tbody tr th:only-of-type {\n",
              "        vertical-align: middle;\n",
              "    }\n",
              "\n",
              "    .dataframe tbody tr th {\n",
              "        vertical-align: top;\n",
              "    }\n",
              "\n",
              "    .dataframe thead th {\n",
              "        text-align: right;\n",
              "    }\n",
              "</style>\n",
              "<table border=\"1\" class=\"dataframe\">\n",
              "  <thead>\n",
              "    <tr style=\"text-align: right;\">\n",
              "      <th></th>\n",
              "      <th>Alloy_Name</th>\n",
              "      <th>Temp (°C)</th>\n",
              "      <th>Strain</th>\n",
              "      <th>Stress_MPa</th>\n",
              "      <th>Specimen_Type</th>\n",
              "      <th>Offset</th>\n",
              "    </tr>\n",
              "  </thead>\n",
              "  <tbody>\n",
              "    <tr>\n",
              "      <th>0</th>\n",
              "      <td>Al6061</td>\n",
              "      <td>20</td>\n",
              "      <td>-0.000011</td>\n",
              "      <td>0.598606</td>\n",
              "      <td>Uniaxial tension</td>\n",
              "      <td>0.001989</td>\n",
              "    </tr>\n",
              "    <tr>\n",
              "      <th>1</th>\n",
              "      <td>Al6061</td>\n",
              "      <td>20</td>\n",
              "      <td>-0.000012</td>\n",
              "      <td>0.606464</td>\n",
              "      <td>Uniaxial tension</td>\n",
              "      <td>0.001988</td>\n",
              "    </tr>\n",
              "    <tr>\n",
              "      <th>2</th>\n",
              "      <td>Al6061</td>\n",
              "      <td>20</td>\n",
              "      <td>-0.000014</td>\n",
              "      <td>0.612953</td>\n",
              "      <td>Uniaxial tension</td>\n",
              "      <td>0.001986</td>\n",
              "    </tr>\n",
              "    <tr>\n",
              "      <th>3</th>\n",
              "      <td>Al6061</td>\n",
              "      <td>20</td>\n",
              "      <td>-0.000023</td>\n",
              "      <td>0.618383</td>\n",
              "      <td>Uniaxial tension</td>\n",
              "      <td>0.001977</td>\n",
              "    </tr>\n",
              "    <tr>\n",
              "      <th>4</th>\n",
              "      <td>Al6061</td>\n",
              "      <td>20</td>\n",
              "      <td>-0.000040</td>\n",
              "      <td>0.731632</td>\n",
              "      <td>Uniaxial tension</td>\n",
              "      <td>0.001960</td>\n",
              "    </tr>\n",
              "    <tr>\n",
              "      <th>...</th>\n",
              "      <td>...</td>\n",
              "      <td>...</td>\n",
              "      <td>...</td>\n",
              "      <td>...</td>\n",
              "      <td>...</td>\n",
              "      <td>...</td>\n",
              "    </tr>\n",
              "    <tr>\n",
              "      <th>206</th>\n",
              "      <td>Al6061</td>\n",
              "      <td>20</td>\n",
              "      <td>0.102075</td>\n",
              "      <td>281.491897</td>\n",
              "      <td>Uniaxial tension</td>\n",
              "      <td>0.104075</td>\n",
              "    </tr>\n",
              "    <tr>\n",
              "      <th>207</th>\n",
              "      <td>Al6061</td>\n",
              "      <td>20</td>\n",
              "      <td>0.103016</td>\n",
              "      <td>279.749201</td>\n",
              "      <td>Uniaxial tension</td>\n",
              "      <td>0.105016</td>\n",
              "    </tr>\n",
              "    <tr>\n",
              "      <th>208</th>\n",
              "      <td>Al6061</td>\n",
              "      <td>20</td>\n",
              "      <td>0.103487</td>\n",
              "      <td>278.960666</td>\n",
              "      <td>Uniaxial tension</td>\n",
              "      <td>0.105487</td>\n",
              "    </tr>\n",
              "    <tr>\n",
              "      <th>209</th>\n",
              "      <td>Al6061</td>\n",
              "      <td>20</td>\n",
              "      <td>0.103955</td>\n",
              "      <td>278.155939</td>\n",
              "      <td>Uniaxial tension</td>\n",
              "      <td>0.105955</td>\n",
              "    </tr>\n",
              "    <tr>\n",
              "      <th>210</th>\n",
              "      <td>Al6061</td>\n",
              "      <td>20</td>\n",
              "      <td>0.104425</td>\n",
              "      <td>277.249995</td>\n",
              "      <td>Uniaxial tension</td>\n",
              "      <td>0.106425</td>\n",
              "    </tr>\n",
              "  </tbody>\n",
              "</table>\n",
              "<p>211 rows × 6 columns</p>\n",
              "</div>"
            ],
            "text/plain": [
              "    Alloy_Name  Temp (°C)    Strain  Stress_MPa     Specimen_Type    Offset\n",
              "0       Al6061         20 -0.000011    0.598606  Uniaxial tension  0.001989\n",
              "1       Al6061         20 -0.000012    0.606464  Uniaxial tension  0.001988\n",
              "2       Al6061         20 -0.000014    0.612953  Uniaxial tension  0.001986\n",
              "3       Al6061         20 -0.000023    0.618383  Uniaxial tension  0.001977\n",
              "4       Al6061         20 -0.000040    0.731632  Uniaxial tension  0.001960\n",
              "..         ...        ...       ...         ...               ...       ...\n",
              "206     Al6061         20  0.102075  281.491897  Uniaxial tension  0.104075\n",
              "207     Al6061         20  0.103016  279.749201  Uniaxial tension  0.105016\n",
              "208     Al6061         20  0.103487  278.960666  Uniaxial tension  0.105487\n",
              "209     Al6061         20  0.103955  278.155939  Uniaxial tension  0.105955\n",
              "210     Al6061         20  0.104425  277.249995  Uniaxial tension  0.106425\n",
              "\n",
              "[211 rows x 6 columns]"
            ]
          },
          "metadata": {
            "tags": []
          },
          "execution_count": 20
        }
      ]
    },
    {
      "cell_type": "markdown",
      "metadata": {
        "id": "6_thAncgrUna"
      },
      "source": [
        "Building regression model for Yield Strength"
      ]
    },
    {
      "cell_type": "code",
      "metadata": {
        "id": "v-5MWTsNrR1z"
      },
      "source": [
        "x = pd.DataFrame(df.loc[0:prop_lim , ['Strain']])\n",
        "y = pd.DataFrame(df.loc[0:prop_lim , ['Stress_MPa']])\n",
        "\n",
        "model = LinearRegression().fit(x, y)\n",
        "y_new = model.predict(x)\n",
        "\n",
        "xx = pd.DataFrame(df.loc[0:prop_lim, ['Offset']])\n",
        "yy = pd.DataFrame(df.loc[0:prop_lim, ['Stress_MPa']])\n",
        "\n",
        "model = LinearRegression().fit(xx, yy)\n",
        "yy_new = model.predict(xx)"
      ],
      "execution_count": null,
      "outputs": []
    },
    {
      "cell_type": "code",
      "metadata": {
        "colab": {
          "base_uri": "https://localhost:8080/",
          "height": 295
        },
        "id": "LyTBnmNgrW00",
        "outputId": "3fb0e2dc-37b7-4997-a433-55de9ae66d4d"
      },
      "source": [
        "plt.plot(df[\"Strain\"], df[\"Stress_MPa\"], color='r', label = 'Al6061')\n",
        "plt.plot(x, y_new, label='Regression line' )\n",
        "plt.plot(xx, yy_new, label='Offset regression line' )\n",
        "plt.title(\"Stress vs Strain\")\n",
        "plt.xlabel(\"Strain\")\n",
        "plt.ylabel(\"Stress\")\n",
        "plt.legend()\n",
        "plt.show()"
      ],
      "execution_count": null,
      "outputs": [
        {
          "output_type": "display_data",
          "data": {
            "image/png": "[encoded data removed]",
            "text/plain": [
              "<Figure size 432x288 with 1 Axes>"
            ]
          },
          "metadata": {
            "tags": [],
            "needs_background": "light"
          }
        }
      ]
    },
    {
      "cell_type": "markdown",
      "metadata": {
        "id": "XIcyIC0WrdDI"
      },
      "source": [
        "Finding the yield point:"
      ]
    },
    {
      "cell_type": "code",
      "metadata": {
        "id": "6tH79_9JrY7_"
      },
      "source": [
        "for i in range (5, row):\n",
        "  if(df.iloc[prop_lim]['Offset'] <= df.iloc[i]['Strain']) :\n",
        "    x2 = df.loc[i-2].Strain\n",
        "    y2 = df.loc[i-2].Stress_MPa\n",
        "    break"
      ],
      "execution_count": null,
      "outputs": []
    },
    {
      "cell_type": "markdown",
      "metadata": {
        "id": "wzZmzYVErjlF"
      },
      "source": [
        "### **Concluded PLOT**"
      ]
    },
    {
      "cell_type": "code",
      "metadata": {
        "colab": {
          "base_uri": "https://localhost:8080/",
          "height": 513
        },
        "id": "4nt6cdnlrfmD",
        "outputId": "f35e5fc0-56bc-45c0-f653-a96ec108ab4c"
      },
      "source": [
        "plt.subplots(figsize=[8,8])\n",
        "plt.plot(df[\"Strain\"], df[\"Stress_MPa\"], color='r', label = 'Temp = 20')\n",
        "plt.scatter(x1,y1,color='b',marker='*',s=200, label = 'Proportional LIMIT')\n",
        "plt.scatter(x2,y2,color='orange',marker='*',s=200, label = 'Yield Point')\n",
        "plt.scatter(x3,y3,color='y',marker='*',s=200, label = 'Ultimate tensile Strength')\n",
        "plt.scatter(x4,y4,color='g',marker='*',s=200, label = 'Fracture Point')\n",
        "plt.plot(x, y_new, label='Proportionality Line')\n",
        "plt.plot(xx, yy_new, label='Offset line' )\n",
        "plt.title(\"Stress vs Strain\")\n",
        "plt.xlabel(\"Strain\")\n",
        "plt.ylabel(\"Stress\")\n",
        "plt.legend()\n",
        "plt.show()"
      ],
      "execution_count": null,
      "outputs": [
        {
          "output_type": "display_data",
          "data": {
            "image/png": "[encoded data removed]",
            "text/plain": [
              "<Figure size 576x576 with 1 Axes>"
            ]
          },
          "metadata": {
            "tags": [],
            "needs_background": "light"
          }
        }
      ]
    },
    {
      "cell_type": "markdown",
      "metadata": {
        "id": "1mp9wNrUtcAG"
      },
      "source": [
        "**Results for Al6061 at 20°C:**"
      ]
    },
    {
      "cell_type": "code",
      "metadata": {
        "colab": {
          "base_uri": "https://localhost:8080/"
        },
        "id": "fkhi2ncurlsW",
        "outputId": "20ecd209-f484-4457-adb0-cdc0b75671a6"
      },
      "source": [
        "print('Proportional limit :' ,df.iloc[prop_lim]['Stress_MPa'] ,'MPa')\n",
        "print('Yield Point :' ,df.iloc[i]['Stress_MPa'] ,'MPa')\n",
        "print('Ultimate tensile strength :' , y3 ,'MPa')\n",
        "print('Fracture point :' ,df.iloc[row-1]['Stress_MPa'] ,'MPa')"
      ],
      "execution_count": null,
      "outputs": [
        {
          "output_type": "stream",
          "text": [
            "Proportional limit : 255.4674444 MPa\n",
            "Yield Point : 264.9347035 MPa\n",
            "Ultimate tensile strength : 291.8214433 MPa\n",
            "Fracture point : 277.24999460000004 MPa\n"
          ],
          "name": "stdout"
        }
      ]
    },
    {
      "cell_type": "markdown",
      "metadata": {
        "id": "ysTKAZSutn-T"
      },
      "source": [
        "Model Accuracy:"
      ]
    },
    {
      "cell_type": "code",
      "metadata": {
        "colab": {
          "base_uri": "https://localhost:8080/"
        },
        "id": "fEN3auyQthf0",
        "outputId": "848114d6-6f63-432c-96e0-954834797155"
      },
      "source": [
        "# Regression score function\n",
        "print(slm.r2_score(y, y_new))"
      ],
      "execution_count": null,
      "outputs": [
        {
          "output_type": "stream",
          "text": [
            "0.9566099771631561\n"
          ],
          "name": "stdout"
        }
      ]
    }
  ]
}