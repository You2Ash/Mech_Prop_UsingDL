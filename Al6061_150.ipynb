{
  "nbformat": 4,
  "nbformat_minor": 0,
  "metadata": {
    "colab": {
      "name": "Al6061_150.ipynb",
      "provenance": [],
      "authorship_tag": "ABX9TyOnPT+6vl9H0YwS1l6JixaQ",
      "include_colab_link": true
    },
    "kernelspec": {
      "display_name": "Python 3",
      "name": "python3"
    }
  },
  "cells": [
    {
      "cell_type": "markdown",
      "metadata": {
        "id": "view-in-github",
        "colab_type": "text"
      },
      "source": [
        "<a href=\"https://colab.research.google.com/github/dhruvjha206/Mech-Prop-using-ML/blob/main/Al6061_150.ipynb\" target=\"_parent\"><img src=\"https://colab.research.google.com/assets/colab-badge.svg\" alt=\"Open In Colab\"/></a>"
      ]
    },
    {
      "cell_type": "markdown",
      "metadata": {
        "id": "AR-iSqMtvf-X"
      },
      "source": [
        "###**For Aluminium 6061 Alloy at 150°C**"
      ]
    },
    {
      "cell_type": "code",
      "metadata": {
        "id": "_b23cpdmon3B"
      },
      "source": [
        "# Importing Important Libraries\n",
        "import numpy as np\n",
        "import matplotlib.pyplot as plt\n",
        "import pandas as pd\n",
        "import seaborn as sn\n",
        "\n",
        "from sklearn.linear_model import LinearRegression\n",
        "from sklearn import metrics\n",
        "import pandas.testing as tm\n",
        "from sklearn.preprocessing import PolynomialFeatures\n",
        "import sklearn.metrics as slm"
      ],
      "execution_count": null,
      "outputs": []
    },
    {
      "cell_type": "markdown",
      "metadata": {
        "id": "yIG23uGzXDMe"
      },
      "source": [
        "### Data Preparation"
      ]
    },
    {
      "cell_type": "markdown",
      "metadata": {
        "id": "ho2uT1cGXPQV"
      },
      "source": [
        "About the Data Set\n",
        "\n",
        "The dataset is stress-strain ( Tensile and Microindentation ) of Aluminium 6061 Alloy under uniaxial and plain strain tension at 6 different temperatures."
      ]
    },
    {
      "cell_type": "code",
      "metadata": {
        "colab": {
          "base_uri": "https://localhost:8080/"
        },
        "id": "vzxenoxHo5sX",
        "outputId": "77046622-03d7-462c-9a77-24c02b85540c"
      },
      "source": [
        "from google.colab import drive\n",
        "drive.mount('/content/drive')"
      ],
      "execution_count": null,
      "outputs": [
        {
          "output_type": "stream",
          "text": [
            "Drive already mounted at /content/drive; to attempt to forcibly remount, call drive.mount(\"/content/drive\", force_remount=True).\n"
          ],
          "name": "stdout"
        }
      ]
    },
    {
      "cell_type": "code",
      "metadata": {
        "id": "O_a5Naw9p1vt"
      },
      "source": [
        "#reading csv\n",
        "path = \"/content/drive/MyDrive/Al6061_150.csv\"\n",
        "df = pd.read_csv(path, encoding= 'unicode_escape')"
      ],
      "execution_count": null,
      "outputs": []
    },
    {
      "cell_type": "markdown",
      "metadata": {
        "id": "A8xH8_ktZ_D2"
      },
      "source": [
        "Dataset"
      ]
    },
    {
      "cell_type": "code",
      "metadata": {
        "colab": {
          "base_uri": "https://localhost:8080/",
          "height": 402
        },
        "id": "_BHmMyFZq1Tg",
        "outputId": "92480652-4704-4db6-bf69-cba9e665daca"
      },
      "source": [
        "df"
      ],
      "execution_count": null,
      "outputs": [
        {
          "output_type": "execute_result",
          "data": {
            "text/html": [
              "<div>\n",
              "<style scoped>\n",
              "    .dataframe tbody tr th:only-of-type {\n",
              "        vertical-align: middle;\n",
              "    }\n",
              "\n",
              "    .dataframe tbody tr th {\n",
              "        vertical-align: top;\n",
              "    }\n",
              "\n",
              "    .dataframe thead th {\n",
              "        text-align: right;\n",
              "    }\n",
              "</style>\n",
              "<table border=\"1\" class=\"dataframe\">\n",
              "  <thead>\n",
              "    <tr style=\"text-align: right;\">\n",
              "      <th></th>\n",
              "      <th>Alloy_Name</th>\n",
              "      <th>Temp (°C)</th>\n",
              "      <th>Strain</th>\n",
              "      <th>Stress_MPa</th>\n",
              "      <th>Specimen_Type</th>\n",
              "    </tr>\n",
              "  </thead>\n",
              "  <tbody>\n",
              "    <tr>\n",
              "      <th>0</th>\n",
              "      <td>Al6061</td>\n",
              "      <td>150</td>\n",
              "      <td>-0.000029</td>\n",
              "      <td>0.192261</td>\n",
              "      <td>Uniaxial tension</td>\n",
              "    </tr>\n",
              "    <tr>\n",
              "      <th>1</th>\n",
              "      <td>Al6061</td>\n",
              "      <td>150</td>\n",
              "      <td>-0.000049</td>\n",
              "      <td>0.175688</td>\n",
              "      <td>Uniaxial tension</td>\n",
              "    </tr>\n",
              "    <tr>\n",
              "      <th>2</th>\n",
              "      <td>Al6061</td>\n",
              "      <td>150</td>\n",
              "      <td>-0.000083</td>\n",
              "      <td>0.171677</td>\n",
              "      <td>Uniaxial tension</td>\n",
              "    </tr>\n",
              "    <tr>\n",
              "      <th>3</th>\n",
              "      <td>Al6061</td>\n",
              "      <td>150</td>\n",
              "      <td>-0.000112</td>\n",
              "      <td>0.319099</td>\n",
              "      <td>Uniaxial tension</td>\n",
              "    </tr>\n",
              "    <tr>\n",
              "      <th>4</th>\n",
              "      <td>Al6061</td>\n",
              "      <td>150</td>\n",
              "      <td>-0.000154</td>\n",
              "      <td>0.664752</td>\n",
              "      <td>Uniaxial tension</td>\n",
              "    </tr>\n",
              "    <tr>\n",
              "      <th>...</th>\n",
              "      <td>...</td>\n",
              "      <td>...</td>\n",
              "      <td>...</td>\n",
              "      <td>...</td>\n",
              "      <td>...</td>\n",
              "    </tr>\n",
              "    <tr>\n",
              "      <th>843</th>\n",
              "      <td>Al6061</td>\n",
              "      <td>150</td>\n",
              "      <td>0.162319</td>\n",
              "      <td>173.197507</td>\n",
              "      <td>Uniaxial tension</td>\n",
              "    </tr>\n",
              "    <tr>\n",
              "      <th>844</th>\n",
              "      <td>Al6061</td>\n",
              "      <td>150</td>\n",
              "      <td>0.162465</td>\n",
              "      <td>172.606949</td>\n",
              "      <td>Uniaxial tension</td>\n",
              "    </tr>\n",
              "    <tr>\n",
              "      <th>845</th>\n",
              "      <td>Al6061</td>\n",
              "      <td>150</td>\n",
              "      <td>0.162627</td>\n",
              "      <td>172.125882</td>\n",
              "      <td>Uniaxial tension</td>\n",
              "    </tr>\n",
              "    <tr>\n",
              "      <th>846</th>\n",
              "      <td>Al6061</td>\n",
              "      <td>150</td>\n",
              "      <td>0.162826</td>\n",
              "      <td>171.479881</td>\n",
              "      <td>Uniaxial tension</td>\n",
              "    </tr>\n",
              "    <tr>\n",
              "      <th>847</th>\n",
              "      <td>Al6061</td>\n",
              "      <td>150</td>\n",
              "      <td>0.162827</td>\n",
              "      <td>0.000000</td>\n",
              "      <td>Uniaxial tension</td>\n",
              "    </tr>\n",
              "  </tbody>\n",
              "</table>\n",
              "<p>848 rows × 5 columns</p>\n",
              "</div>"
            ],
            "text/plain": [
              "    Alloy_Name  Temp (°C)    Strain  Stress_MPa     Specimen_Type\n",
              "0       Al6061        150 -0.000029    0.192261  Uniaxial tension\n",
              "1       Al6061        150 -0.000049    0.175688  Uniaxial tension\n",
              "2       Al6061        150 -0.000083    0.171677  Uniaxial tension\n",
              "3       Al6061        150 -0.000112    0.319099  Uniaxial tension\n",
              "4       Al6061        150 -0.000154    0.664752  Uniaxial tension\n",
              "..         ...        ...       ...         ...               ...\n",
              "843     Al6061        150  0.162319  173.197507  Uniaxial tension\n",
              "844     Al6061        150  0.162465  172.606949  Uniaxial tension\n",
              "845     Al6061        150  0.162627  172.125882  Uniaxial tension\n",
              "846     Al6061        150  0.162826  171.479881  Uniaxial tension\n",
              "847     Al6061        150  0.162827    0.000000  Uniaxial tension\n",
              "\n",
              "[848 rows x 5 columns]"
            ]
          },
          "metadata": {
            "tags": []
          },
          "execution_count": 9
        }
      ]
    },
    {
      "cell_type": "markdown",
      "metadata": {
        "id": "_6XQh7pKaL2k"
      },
      "source": [
        "Finding Missing Values in the Data Set"
      ]
    },
    {
      "cell_type": "code",
      "metadata": {
        "colab": {
          "base_uri": "https://localhost:8080/"
        },
        "id": "0SfJd_p2aSwV",
        "outputId": "e9317d5e-5991-4658-e226-246bb41a82ee"
      },
      "source": [
        "df.isnull().sum()"
      ],
      "execution_count": null,
      "outputs": [
        {
          "output_type": "execute_result",
          "data": {
            "text/plain": [
              "Alloy_Name       0\n",
              "Temp (°C)        0\n",
              "Strain           0\n",
              "Stress_MPa       0\n",
              "Specimen_Type    0\n",
              "dtype: int64"
            ]
          },
          "metadata": {
            "tags": []
          },
          "execution_count": 10
        }
      ]
    },
    {
      "cell_type": "code",
      "metadata": {
        "colab": {
          "base_uri": "https://localhost:8080/",
          "height": 402
        },
        "id": "TB7bozXeal9Y",
        "outputId": "faeb0945-47cd-4809-b405-6e366365fcfd"
      },
      "source": [
        "df = df.drop([df.index[847]])\n",
        "df"
      ],
      "execution_count": null,
      "outputs": [
        {
          "output_type": "execute_result",
          "data": {
            "text/html": [
              "<div>\n",
              "<style scoped>\n",
              "    .dataframe tbody tr th:only-of-type {\n",
              "        vertical-align: middle;\n",
              "    }\n",
              "\n",
              "    .dataframe tbody tr th {\n",
              "        vertical-align: top;\n",
              "    }\n",
              "\n",
              "    .dataframe thead th {\n",
              "        text-align: right;\n",
              "    }\n",
              "</style>\n",
              "<table border=\"1\" class=\"dataframe\">\n",
              "  <thead>\n",
              "    <tr style=\"text-align: right;\">\n",
              "      <th></th>\n",
              "      <th>Alloy_Name</th>\n",
              "      <th>Temp (°C)</th>\n",
              "      <th>Strain</th>\n",
              "      <th>Stress_MPa</th>\n",
              "      <th>Specimen_Type</th>\n",
              "    </tr>\n",
              "  </thead>\n",
              "  <tbody>\n",
              "    <tr>\n",
              "      <th>0</th>\n",
              "      <td>Al6061</td>\n",
              "      <td>150</td>\n",
              "      <td>-0.000029</td>\n",
              "      <td>0.192261</td>\n",
              "      <td>Uniaxial tension</td>\n",
              "    </tr>\n",
              "    <tr>\n",
              "      <th>1</th>\n",
              "      <td>Al6061</td>\n",
              "      <td>150</td>\n",
              "      <td>-0.000049</td>\n",
              "      <td>0.175688</td>\n",
              "      <td>Uniaxial tension</td>\n",
              "    </tr>\n",
              "    <tr>\n",
              "      <th>2</th>\n",
              "      <td>Al6061</td>\n",
              "      <td>150</td>\n",
              "      <td>-0.000083</td>\n",
              "      <td>0.171677</td>\n",
              "      <td>Uniaxial tension</td>\n",
              "    </tr>\n",
              "    <tr>\n",
              "      <th>3</th>\n",
              "      <td>Al6061</td>\n",
              "      <td>150</td>\n",
              "      <td>-0.000112</td>\n",
              "      <td>0.319099</td>\n",
              "      <td>Uniaxial tension</td>\n",
              "    </tr>\n",
              "    <tr>\n",
              "      <th>4</th>\n",
              "      <td>Al6061</td>\n",
              "      <td>150</td>\n",
              "      <td>-0.000154</td>\n",
              "      <td>0.664752</td>\n",
              "      <td>Uniaxial tension</td>\n",
              "    </tr>\n",
              "    <tr>\n",
              "      <th>...</th>\n",
              "      <td>...</td>\n",
              "      <td>...</td>\n",
              "      <td>...</td>\n",
              "      <td>...</td>\n",
              "      <td>...</td>\n",
              "    </tr>\n",
              "    <tr>\n",
              "      <th>842</th>\n",
              "      <td>Al6061</td>\n",
              "      <td>150</td>\n",
              "      <td>0.161944</td>\n",
              "      <td>174.372188</td>\n",
              "      <td>Uniaxial tension</td>\n",
              "    </tr>\n",
              "    <tr>\n",
              "      <th>843</th>\n",
              "      <td>Al6061</td>\n",
              "      <td>150</td>\n",
              "      <td>0.162319</td>\n",
              "      <td>173.197507</td>\n",
              "      <td>Uniaxial tension</td>\n",
              "    </tr>\n",
              "    <tr>\n",
              "      <th>844</th>\n",
              "      <td>Al6061</td>\n",
              "      <td>150</td>\n",
              "      <td>0.162465</td>\n",
              "      <td>172.606949</td>\n",
              "      <td>Uniaxial tension</td>\n",
              "    </tr>\n",
              "    <tr>\n",
              "      <th>845</th>\n",
              "      <td>Al6061</td>\n",
              "      <td>150</td>\n",
              "      <td>0.162627</td>\n",
              "      <td>172.125882</td>\n",
              "      <td>Uniaxial tension</td>\n",
              "    </tr>\n",
              "    <tr>\n",
              "      <th>846</th>\n",
              "      <td>Al6061</td>\n",
              "      <td>150</td>\n",
              "      <td>0.162826</td>\n",
              "      <td>171.479881</td>\n",
              "      <td>Uniaxial tension</td>\n",
              "    </tr>\n",
              "  </tbody>\n",
              "</table>\n",
              "<p>847 rows × 5 columns</p>\n",
              "</div>"
            ],
            "text/plain": [
              "    Alloy_Name  Temp (°C)    Strain  Stress_MPa     Specimen_Type\n",
              "0       Al6061        150 -0.000029    0.192261  Uniaxial tension\n",
              "1       Al6061        150 -0.000049    0.175688  Uniaxial tension\n",
              "2       Al6061        150 -0.000083    0.171677  Uniaxial tension\n",
              "3       Al6061        150 -0.000112    0.319099  Uniaxial tension\n",
              "4       Al6061        150 -0.000154    0.664752  Uniaxial tension\n",
              "..         ...        ...       ...         ...               ...\n",
              "842     Al6061        150  0.161944  174.372188  Uniaxial tension\n",
              "843     Al6061        150  0.162319  173.197507  Uniaxial tension\n",
              "844     Al6061        150  0.162465  172.606949  Uniaxial tension\n",
              "845     Al6061        150  0.162627  172.125882  Uniaxial tension\n",
              "846     Al6061        150  0.162826  171.479881  Uniaxial tension\n",
              "\n",
              "[847 rows x 5 columns]"
            ]
          },
          "metadata": {
            "tags": []
          },
          "execution_count": 11
        }
      ]
    },
    {
      "cell_type": "markdown",
      "metadata": {
        "id": "gLo9l7Keax13"
      },
      "source": [
        "Let's Do Some Exploratory Analysis"
      ]
    },
    {
      "cell_type": "code",
      "metadata": {
        "colab": {
          "base_uri": "https://localhost:8080/"
        },
        "id": "kAYB9_lLbRl1",
        "outputId": "6a319d54-c134-4aeb-a2af-4a9f72cae969"
      },
      "source": [
        "df.info()"
      ],
      "execution_count": null,
      "outputs": [
        {
          "output_type": "stream",
          "text": [
            "<class 'pandas.core.frame.DataFrame'>\n",
            "Int64Index: 847 entries, 0 to 846\n",
            "Data columns (total 5 columns):\n",
            " #   Column         Non-Null Count  Dtype  \n",
            "---  ------         --------------  -----  \n",
            " 0   Alloy_Name     847 non-null    object \n",
            " 1   Temp (°C)      847 non-null    int64  \n",
            " 2   Strain         847 non-null    float64\n",
            " 3   Stress_MPa     847 non-null    float64\n",
            " 4   Specimen_Type  847 non-null    object \n",
            "dtypes: float64(2), int64(1), object(2)\n",
            "memory usage: 39.7+ KB\n"
          ],
          "name": "stdout"
        }
      ]
    },
    {
      "cell_type": "code",
      "metadata": {
        "colab": {
          "base_uri": "https://localhost:8080/",
          "height": 284
        },
        "id": "9Y1oX6hUbLj-",
        "outputId": "fc2acf4b-ef6f-46a2-9f98-91c62f66e5fe"
      },
      "source": [
        "df.describe()"
      ],
      "execution_count": null,
      "outputs": [
        {
          "output_type": "execute_result",
          "data": {
            "text/html": [
              "<div>\n",
              "<style scoped>\n",
              "    .dataframe tbody tr th:only-of-type {\n",
              "        vertical-align: middle;\n",
              "    }\n",
              "\n",
              "    .dataframe tbody tr th {\n",
              "        vertical-align: top;\n",
              "    }\n",
              "\n",
              "    .dataframe thead th {\n",
              "        text-align: right;\n",
              "    }\n",
              "</style>\n",
              "<table border=\"1\" class=\"dataframe\">\n",
              "  <thead>\n",
              "    <tr style=\"text-align: right;\">\n",
              "      <th></th>\n",
              "      <th>Temp (°C)</th>\n",
              "      <th>Strain</th>\n",
              "      <th>Stress_MPa</th>\n",
              "    </tr>\n",
              "  </thead>\n",
              "  <tbody>\n",
              "    <tr>\n",
              "      <th>count</th>\n",
              "      <td>847.0</td>\n",
              "      <td>847.000000</td>\n",
              "      <td>847.000000</td>\n",
              "    </tr>\n",
              "    <tr>\n",
              "      <th>mean</th>\n",
              "      <td>150.0</td>\n",
              "      <td>0.068288</td>\n",
              "      <td>213.599084</td>\n",
              "    </tr>\n",
              "    <tr>\n",
              "      <th>std</th>\n",
              "      <td>0.0</td>\n",
              "      <td>0.049594</td>\n",
              "      <td>47.150991</td>\n",
              "    </tr>\n",
              "    <tr>\n",
              "      <th>min</th>\n",
              "      <td>150.0</td>\n",
              "      <td>-0.000379</td>\n",
              "      <td>0.171677</td>\n",
              "    </tr>\n",
              "    <tr>\n",
              "      <th>25%</th>\n",
              "      <td>150.0</td>\n",
              "      <td>0.023116</td>\n",
              "      <td>220.100601</td>\n",
              "    </tr>\n",
              "    <tr>\n",
              "      <th>50%</th>\n",
              "      <td>150.0</td>\n",
              "      <td>0.064003</td>\n",
              "      <td>231.113011</td>\n",
              "    </tr>\n",
              "    <tr>\n",
              "      <th>75%</th>\n",
              "      <td>150.0</td>\n",
              "      <td>0.109856</td>\n",
              "      <td>235.657576</td>\n",
              "    </tr>\n",
              "    <tr>\n",
              "      <th>max</th>\n",
              "      <td>150.0</td>\n",
              "      <td>0.162826</td>\n",
              "      <td>237.543727</td>\n",
              "    </tr>\n",
              "  </tbody>\n",
              "</table>\n",
              "</div>"
            ],
            "text/plain": [
              "       Temp (°C)      Strain  Stress_MPa\n",
              "count      847.0  847.000000  847.000000\n",
              "mean       150.0    0.068288  213.599084\n",
              "std          0.0    0.049594   47.150991\n",
              "min        150.0   -0.000379    0.171677\n",
              "25%        150.0    0.023116  220.100601\n",
              "50%        150.0    0.064003  231.113011\n",
              "75%        150.0    0.109856  235.657576\n",
              "max        150.0    0.162826  237.543727"
            ]
          },
          "metadata": {
            "tags": []
          },
          "execution_count": 13
        }
      ]
    },
    {
      "cell_type": "code",
      "metadata": {
        "colab": {
          "base_uri": "https://localhost:8080/",
          "height": 567
        },
        "id": "kDEd2LcPa43f",
        "outputId": "fbae0022-519f-46e3-d75f-51e21575713f"
      },
      "source": [
        "sn.pairplot(data=df)"
      ],
      "execution_count": null,
      "outputs": [
        {
          "output_type": "execute_result",
          "data": {
            "text/plain": [
              "<seaborn.axisgrid.PairGrid at 0x7f0289410910>"
            ]
          },
          "metadata": {
            "tags": []
          },
          "execution_count": 14
        },
        {
          "output_type": "display_data",
          "data": {
            "image/png": "[encoded data removed]",
            "text/plain": [
              "<Figure size 540x540 with 12 Axes>"
            ]
          },
          "metadata": {
            "tags": [],
            "needs_background": "light"
          }
        }
      ]
    },
    {
      "cell_type": "markdown",
      "metadata": {
        "id": "8whOL0a5bloG"
      },
      "source": [
        "Data Plotting (Stress-strain curve)"
      ]
    },
    {
      "cell_type": "code",
      "metadata": {
        "colab": {
          "base_uri": "https://localhost:8080/",
          "height": 295
        },
        "id": "l7AKVvDGs8Dc",
        "outputId": "aaa97b5d-9f3b-4f86-ce8e-709887c1c7d2"
      },
      "source": [
        "plt.plot(df[\"Strain\"], df[\"Stress_MPa\"], color='r', label = 'Temp = 150')\n",
        "plt.title(\"Stress vs Strain\")\n",
        "plt.xlabel(\"Strain\")\n",
        "plt.ylabel(\"Stress\")\n",
        "plt.legend()\n",
        "plt.show()"
      ],
      "execution_count": null,
      "outputs": [
        {
          "output_type": "display_data",
          "data": {
            "image/png": "[encoded data removed]",
            "text/plain": [
              "<Figure size 432x288 with 1 Axes>"
            ]
          },
          "metadata": {
            "tags": [],
            "needs_background": "light"
          }
        }
      ]
    },
    {
      "cell_type": "code",
      "metadata": {
        "id": "2STnobxZ36QG"
      },
      "source": [
        "row = df.shape[0]\n",
        "col = df.shape[1]"
      ],
      "execution_count": null,
      "outputs": []
    },
    {
      "cell_type": "markdown",
      "metadata": {
        "id": "fUCR6qBvFkJ8"
      },
      "source": [
        "For finding **PROPORTIONAL LIMIT**, we need to find **Linear Regression line** with **minimum 95% accuracy**:"
      ]
    },
    {
      "cell_type": "code",
      "metadata": {
        "colab": {
          "base_uri": "https://localhost:8080/"
        },
        "id": "SARoourwGNQd",
        "outputId": "bffe1c0b-00bc-4b35-c2d4-4d09c7e4cf33"
      },
      "source": [
        "# Plotting multiple Regression lines and finding their accuracy \n",
        "import random\n",
        "prop_lim = random.randint(0,row)\n",
        "\n",
        "for i in range(2, row):\n",
        "  #Change to DataFrame \n",
        "  x = pd.DataFrame(df.loc[0:i , ['Strain']])\n",
        "  y = pd.DataFrame(df.loc[0:i , ['Stress_MPa']])\n",
        "\n",
        "  model = LinearRegression().fit(x, y)\n",
        "  y_new = model.predict(x)\n",
        "\n",
        "  acc = round(slm.r2_score(y, y_new), 2)\n",
        "  if acc >= 0.95 :\n",
        "    prop_lim = i\n",
        "prop_lim    "
      ],
      "execution_count": null,
      "outputs": [
        {
          "output_type": "execute_result",
          "data": {
            "text/plain": [
              "121"
            ]
          },
          "metadata": {
            "tags": []
          },
          "execution_count": 18
        }
      ]
    },
    {
      "cell_type": "code",
      "metadata": {
        "id": "S7piDJ9GxwS3"
      },
      "source": [
        "x1 = df.loc[[prop_lim]].Strain\n",
        "y1 = df.iloc[[prop_lim]].Stress_MPa"
      ],
      "execution_count": null,
      "outputs": []
    },
    {
      "cell_type": "markdown",
      "metadata": {
        "id": "7BnDa3y5cvPM"
      },
      "source": [
        "### Building Regression model"
      ]
    },
    {
      "cell_type": "code",
      "metadata": {
        "id": "fp0flw7-ydJH"
      },
      "source": [
        "x = pd.DataFrame(df.loc[0:prop_lim , ['Strain']])\n",
        "y = pd.DataFrame(df.loc[0:prop_lim , ['Stress_MPa']])\n",
        "\n",
        "model = LinearRegression().fit(x, y)\n",
        "y_new = model.predict(x)"
      ],
      "execution_count": null,
      "outputs": []
    },
    {
      "cell_type": "markdown",
      "metadata": {
        "id": "EnugmccN4ZU8"
      },
      "source": [
        "Plotting Regression line and Proportional limit"
      ]
    },
    {
      "cell_type": "code",
      "metadata": {
        "colab": {
          "base_uri": "https://localhost:8080/",
          "height": 295
        },
        "id": "v-QXnrge4Y9M",
        "outputId": "e251241f-3aac-41c9-88df-b14b56549526"
      },
      "source": [
        "plt.scatter(df[\"Strain\"], df[\"Stress_MPa\"], color='r', label = 'Al6061')\n",
        "plt.plot(x, y_new, label='Linear Regression' )\n",
        "plt.scatter(x1,y1,color='b',marker='*',s=200, label = 'Proportional LIMIT')\n",
        "plt.title(\"Stress vs Strain\")\n",
        "plt.xlabel(\"Strain\")\n",
        "plt.ylabel(\"Stress\")\n",
        "plt.legend()\n",
        "plt.show()"
      ],
      "execution_count": null,
      "outputs": [
        {
          "output_type": "display_data",
          "data": {
            "image/png": "[encoded data removed]",
            "text/plain": [
              "<Figure size 432x288 with 1 Axes>"
            ]
          },
          "metadata": {
            "tags": [],
            "needs_background": "light"
          }
        }
      ]
    },
    {
      "cell_type": "code",
      "metadata": {
        "id": "TrWCc941Rf7G"
      },
      "source": [
        "# For Fracture Point\n",
        "x4 = df.loc[[row-2]].Strain\n",
        "y4 = df.loc[[row-2]].Stress_MPa"
      ],
      "execution_count": null,
      "outputs": []
    },
    {
      "cell_type": "markdown",
      "metadata": {
        "id": "MotCGVqD4o9l"
      },
      "source": [
        "For the ultimate tensile strength:"
      ]
    },
    {
      "cell_type": "code",
      "metadata": {
        "id": "fUVT0JSK4kW9"
      },
      "source": [
        "max_Stress = df.iloc[df['Stress_MPa'].idxmax()]\n",
        "x3 = max_Stress['Strain']\n",
        "y3 = max_Stress['Stress_MPa']"
      ],
      "execution_count": null,
      "outputs": []
    },
    {
      "cell_type": "markdown",
      "metadata": {
        "id": "5zpif1me4vV7"
      },
      "source": [
        "Finding Yield Point using offset method"
      ]
    },
    {
      "cell_type": "code",
      "metadata": {
        "colab": {
          "base_uri": "https://localhost:8080/",
          "height": 402
        },
        "id": "pBBafp6S4sY-",
        "outputId": "29baa806-43d4-45f5-e228-c6f65660dc4a"
      },
      "source": [
        "#Taking 0.2% as offset\n",
        "df[\"Offset\"] = df[\"Strain\"] + 0.002\n",
        "df"
      ],
      "execution_count": null,
      "outputs": [
        {
          "output_type": "execute_result",
          "data": {
            "text/html": [
              "<div>\n",
              "<style scoped>\n",
              "    .dataframe tbody tr th:only-of-type {\n",
              "        vertical-align: middle;\n",
              "    }\n",
              "\n",
              "    .dataframe tbody tr th {\n",
              "        vertical-align: top;\n",
              "    }\n",
              "\n",
              "    .dataframe thead th {\n",
              "        text-align: right;\n",
              "    }\n",
              "</style>\n",
              "<table border=\"1\" class=\"dataframe\">\n",
              "  <thead>\n",
              "    <tr style=\"text-align: right;\">\n",
              "      <th></th>\n",
              "      <th>Alloy_Name</th>\n",
              "      <th>Temp (°C)</th>\n",
              "      <th>Strain</th>\n",
              "      <th>Stress_MPa</th>\n",
              "      <th>Specimen_Type</th>\n",
              "      <th>Offset</th>\n",
              "    </tr>\n",
              "  </thead>\n",
              "  <tbody>\n",
              "    <tr>\n",
              "      <th>0</th>\n",
              "      <td>Al6061</td>\n",
              "      <td>150</td>\n",
              "      <td>-0.000029</td>\n",
              "      <td>0.192261</td>\n",
              "      <td>Uniaxial tension</td>\n",
              "      <td>0.001971</td>\n",
              "    </tr>\n",
              "    <tr>\n",
              "      <th>1</th>\n",
              "      <td>Al6061</td>\n",
              "      <td>150</td>\n",
              "      <td>-0.000049</td>\n",
              "      <td>0.175688</td>\n",
              "      <td>Uniaxial tension</td>\n",
              "      <td>0.001951</td>\n",
              "    </tr>\n",
              "    <tr>\n",
              "      <th>2</th>\n",
              "      <td>Al6061</td>\n",
              "      <td>150</td>\n",
              "      <td>-0.000083</td>\n",
              "      <td>0.171677</td>\n",
              "      <td>Uniaxial tension</td>\n",
              "      <td>0.001917</td>\n",
              "    </tr>\n",
              "    <tr>\n",
              "      <th>3</th>\n",
              "      <td>Al6061</td>\n",
              "      <td>150</td>\n",
              "      <td>-0.000112</td>\n",
              "      <td>0.319099</td>\n",
              "      <td>Uniaxial tension</td>\n",
              "      <td>0.001888</td>\n",
              "    </tr>\n",
              "    <tr>\n",
              "      <th>4</th>\n",
              "      <td>Al6061</td>\n",
              "      <td>150</td>\n",
              "      <td>-0.000154</td>\n",
              "      <td>0.664752</td>\n",
              "      <td>Uniaxial tension</td>\n",
              "      <td>0.001846</td>\n",
              "    </tr>\n",
              "    <tr>\n",
              "      <th>...</th>\n",
              "      <td>...</td>\n",
              "      <td>...</td>\n",
              "      <td>...</td>\n",
              "      <td>...</td>\n",
              "      <td>...</td>\n",
              "      <td>...</td>\n",
              "    </tr>\n",
              "    <tr>\n",
              "      <th>842</th>\n",
              "      <td>Al6061</td>\n",
              "      <td>150</td>\n",
              "      <td>0.161944</td>\n",
              "      <td>174.372188</td>\n",
              "      <td>Uniaxial tension</td>\n",
              "      <td>0.163944</td>\n",
              "    </tr>\n",
              "    <tr>\n",
              "      <th>843</th>\n",
              "      <td>Al6061</td>\n",
              "      <td>150</td>\n",
              "      <td>0.162319</td>\n",
              "      <td>173.197507</td>\n",
              "      <td>Uniaxial tension</td>\n",
              "      <td>0.164319</td>\n",
              "    </tr>\n",
              "    <tr>\n",
              "      <th>844</th>\n",
              "      <td>Al6061</td>\n",
              "      <td>150</td>\n",
              "      <td>0.162465</td>\n",
              "      <td>172.606949</td>\n",
              "      <td>Uniaxial tension</td>\n",
              "      <td>0.164465</td>\n",
              "    </tr>\n",
              "    <tr>\n",
              "      <th>845</th>\n",
              "      <td>Al6061</td>\n",
              "      <td>150</td>\n",
              "      <td>0.162627</td>\n",
              "      <td>172.125882</td>\n",
              "      <td>Uniaxial tension</td>\n",
              "      <td>0.164627</td>\n",
              "    </tr>\n",
              "    <tr>\n",
              "      <th>846</th>\n",
              "      <td>Al6061</td>\n",
              "      <td>150</td>\n",
              "      <td>0.162826</td>\n",
              "      <td>171.479881</td>\n",
              "      <td>Uniaxial tension</td>\n",
              "      <td>0.164826</td>\n",
              "    </tr>\n",
              "  </tbody>\n",
              "</table>\n",
              "<p>847 rows × 6 columns</p>\n",
              "</div>"
            ],
            "text/plain": [
              "    Alloy_Name  Temp (°C)    Strain  Stress_MPa     Specimen_Type    Offset\n",
              "0       Al6061        150 -0.000029    0.192261  Uniaxial tension  0.001971\n",
              "1       Al6061        150 -0.000049    0.175688  Uniaxial tension  0.001951\n",
              "2       Al6061        150 -0.000083    0.171677  Uniaxial tension  0.001917\n",
              "3       Al6061        150 -0.000112    0.319099  Uniaxial tension  0.001888\n",
              "4       Al6061        150 -0.000154    0.664752  Uniaxial tension  0.001846\n",
              "..         ...        ...       ...         ...               ...       ...\n",
              "842     Al6061        150  0.161944  174.372188  Uniaxial tension  0.163944\n",
              "843     Al6061        150  0.162319  173.197507  Uniaxial tension  0.164319\n",
              "844     Al6061        150  0.162465  172.606949  Uniaxial tension  0.164465\n",
              "845     Al6061        150  0.162627  172.125882  Uniaxial tension  0.164627\n",
              "846     Al6061        150  0.162826  171.479881  Uniaxial tension  0.164826\n",
              "\n",
              "[847 rows x 6 columns]"
            ]
          },
          "metadata": {
            "tags": []
          },
          "execution_count": 24
        }
      ]
    },
    {
      "cell_type": "markdown",
      "metadata": {
        "id": "8xLmFiusduoo"
      },
      "source": [
        "Building regression model for Yield Strength"
      ]
    },
    {
      "cell_type": "code",
      "metadata": {
        "id": "eLeRlStI4ywX"
      },
      "source": [
        "x = pd.DataFrame(df.loc[0:prop_lim , ['Strain']])\n",
        "y = pd.DataFrame(df.loc[0:prop_lim , ['Stress_MPa']])\n",
        "\n",
        "model = LinearRegression().fit(x, y)\n",
        "y_new = model.predict(x)\n",
        "\n",
        "xx = pd.DataFrame(df.loc[0:prop_lim, ['Offset']])\n",
        "yy = pd.DataFrame(df.loc[0:prop_lim, ['Stress_MPa']])\n",
        "\n",
        "model = LinearRegression().fit(xx, yy)\n",
        "yy_new = model.predict(xx)"
      ],
      "execution_count": null,
      "outputs": []
    },
    {
      "cell_type": "code",
      "metadata": {
        "colab": {
          "base_uri": "https://localhost:8080/",
          "height": 295
        },
        "id": "i6qdDlI242vv",
        "outputId": "eb1199b7-1b60-4b65-82a6-1e2fbf21775b"
      },
      "source": [
        "plt.plot(df[\"Strain\"], df[\"Stress_MPa\"], color='r', label = 'Al6061')\n",
        "plt.plot(x, y_new, label='Regression line' )\n",
        "plt.plot(xx, yy_new, label='Offset regression line' )\n",
        "plt.title(\"Stress vs Strain\")\n",
        "plt.xlabel(\"Strain\")\n",
        "plt.ylabel(\"Stress\")\n",
        "plt.legend()\n",
        "plt.show()"
      ],
      "execution_count": null,
      "outputs": [
        {
          "output_type": "display_data",
          "data": {
            "image/png": "[encoded data removed]",
            "text/plain": [
              "<Figure size 432x288 with 1 Axes>"
            ]
          },
          "metadata": {
            "tags": [],
            "needs_background": "light"
          }
        }
      ]
    },
    {
      "cell_type": "markdown",
      "metadata": {
        "id": "MItCGDPL4-md"
      },
      "source": [
        "Finding the yield point:"
      ]
    },
    {
      "cell_type": "code",
      "metadata": {
        "id": "RbfXcto-45UO"
      },
      "source": [
        "for i in range (50, row):\n",
        "  if(df.iloc[prop_lim]['Offset'] <= df.iloc[i]['Strain']) :\n",
        "    x2 = df.loc[i].Strain\n",
        "    y2 = df.loc[i].Stress_MPa\n",
        "    break"
      ],
      "execution_count": null,
      "outputs": []
    },
    {
      "cell_type": "markdown",
      "metadata": {
        "id": "amNWMMXH5FIy"
      },
      "source": [
        "### **Concluded PLOT**"
      ]
    },
    {
      "cell_type": "code",
      "metadata": {
        "colab": {
          "base_uri": "https://localhost:8080/",
          "height": 513
        },
        "id": "Pc5s-O445CAb",
        "outputId": "c00ae5be-7e73-4404-c52b-ebb93eb3eac0"
      },
      "source": [
        "plt.subplots(figsize=[8,8])\n",
        "plt.plot(df[\"Strain\"], df[\"Stress_MPa\"], color='r', label = 'Temp = 150')\n",
        "plt.scatter(x1,y1,color='b',marker='*',s=200, label = 'Proportional LIMIT')\n",
        "plt.scatter(x2,y2,color='orange',marker='*',s=200, label = 'Yield Point')\n",
        "plt.scatter(x3,y3,color='y',marker='*',s=200, label = 'Ultimate tensile Strength')\n",
        "plt.scatter(x4,y4,color='g',marker='*',s=200, label = 'Fracture Point')\n",
        "plt.plot(x, y_new, label='Proportionality Line')\n",
        "plt.plot(xx, yy_new, label='Offset line' )\n",
        "plt.title(\"Stress vs Strain\")\n",
        "plt.xlabel(\"Strain\")\n",
        "plt.ylabel(\"Stress\")\n",
        "plt.legend()\n",
        "plt.show()"
      ],
      "execution_count": null,
      "outputs": [
        {
          "output_type": "display_data",
          "data": {
            "image/png": "[encoded data removed]",
            "text/plain": [
              "<Figure size 576x576 with 1 Axes>"
            ]
          },
          "metadata": {
            "tags": [],
            "needs_background": "light"
          }
        }
      ]
    },
    {
      "cell_type": "markdown",
      "metadata": {
        "id": "eKr0foay5Ra-"
      },
      "source": [
        "**Results for Al6061 at 150°C:**"
      ]
    },
    {
      "cell_type": "code",
      "metadata": {
        "colab": {
          "base_uri": "https://localhost:8080/"
        },
        "id": "LS3kP3rf5Khe",
        "outputId": "8a6058ae-e5ae-4163-e46d-33c3ab7e9598"
      },
      "source": [
        "print('Proportional limit :' ,df.iloc[prop_lim]['Stress_MPa'] ,'MPa')\n",
        "print('Yield Point :' ,df.iloc[i]['Stress_MPa'] ,'MPa')\n",
        "print('Ultimate tensile strength :' , y3 ,'MPa')\n",
        "print('Fracture point :' ,df.iloc[row-1]['Stress_MPa'] ,'MPa')"
      ],
      "execution_count": null,
      "outputs": [
        {
          "output_type": "stream",
          "text": [
            "Proportional limit : 230.33451890000003 MPa\n",
            "Yield Point : 231.43014700000003 MPa\n",
            "Ultimate tensile strength : 237.5437267 MPa\n",
            "Fracture point : 171.4798814 MPa\n"
          ],
          "name": "stdout"
        }
      ]
    },
    {
      "cell_type": "markdown",
      "metadata": {
        "id": "t3mZ2XYbiMrz"
      },
      "source": [
        "Model Accuracy:"
      ]
    },
    {
      "cell_type": "code",
      "metadata": {
        "colab": {
          "base_uri": "https://localhost:8080/"
        },
        "id": "cVgM4ffIiK-_",
        "outputId": "c5d81462-43b7-4533-fbe2-211ba11b407d"
      },
      "source": [
        "# Regression score function\n",
        "print(slm.r2_score(y, y_new))"
      ],
      "execution_count": null,
      "outputs": [
        {
          "output_type": "stream",
          "text": [
            "0.9454825074148511\n"
          ],
          "name": "stdout"
        }
      ]
    },
    {
      "cell_type": "code",
      "metadata": {
        "id": "nFkf-AHxuSOY"
      },
      "source": [
        ""
      ],
      "execution_count": null,
      "outputs": []
    }
  ]
}